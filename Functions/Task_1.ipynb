{
 "cells": [
  {
   "cell_type": "markdown",
   "id": "012a954c-474f-4556-9418-e5372e015301",
   "metadata": {},
   "source": [
    "# Contect"
   ]
  },
  {
   "cell_type": "markdown",
   "id": "aa55c26a-c5cb-4505-9c25-5d57b5ea039c",
   "metadata": {},
   "source": [
    "1. [Задание 1](#excercise_1)  \n",
    "     1.1. [Пункт 1](#point_1)  \n",
    "     1.2. [Пункт 2](#point_2)   \n",
    "     1.3. [Пункт 3](#point_3)  \n",
    "     1.4. [Пункт 4](#point_4)  \n",
    "     1.5. [Пункт 5](#point_5)"
   ]
  },
  {
   "cell_type": "code",
   "execution_count": 122,
   "id": "367f91ff-7e87-4c44-bdd0-966d88398f20",
   "metadata": {},
   "outputs": [],
   "source": [
    "documents = [\n",
    " {'type': 'passport', 'number': '2207 876234', 'name': 'Василий Гупкин'},\n",
    " {'type': 'invoice', 'number': '11-2', 'name': 'Геннадий Покемонов'},\n",
    " {'type': 'insurance', 'number': '10006', 'name': 'Аристарх Павлов'}\n",
    "]"
   ]
  },
  {
   "cell_type": "code",
   "execution_count": 123,
   "id": "6b7b845f-ad44-463b-8130-defd1da45190",
   "metadata": {},
   "outputs": [],
   "source": [
    "directories = {\n",
    " '1': ['2207 876234', '11-2'],\n",
    " '2': ['10006'],\n",
    " '3': []\n",
    "}"
   ]
  },
  {
   "cell_type": "code",
   "execution_count": 124,
   "id": "16aca96a-fcc4-48fe-99d2-8cbb95621bda",
   "metadata": {},
   "outputs": [],
   "source": [
    "def gather_input():\n",
    "    a = ''\n",
    "    while a != 'q':\n",
    "        print('========================================= \\n')\n",
    "        print('Введите команду. p - владелец документа')\n",
    "        print('s - узнать полку по номеру документа')\n",
    "        print('l - увидеть полную информацию по всем документам')\n",
    "        print('ads - добавить новую полку')\n",
    "        print('ds - удалить полку')\n",
    "        print('q - выход')\n",
    "        a = input()\n",
    "        b = []\n",
    "        if (a == \"p\"):\n",
    "            b.append(a)\n",
    "            print('Введите номер документа:')\n",
    "            a = input()\n",
    "            b.append(a)\n",
    "            check_document_owner(b[1])\n",
    "        elif (a ==\"s\"):\n",
    "            b.append(a)\n",
    "            print('Введите номер документа:')\n",
    "            a = input()\n",
    "            b.append(a)\n",
    "            check_shelf_number(b[1])\n",
    "        elif(a == \"ads\"):\n",
    "            b.append(a)\n",
    "            print('Введите номер полки:')\n",
    "            a = input()\n",
    "            b.append(a)   \n",
    "            add_shelf_number(b[1])\n",
    "        elif(a == \"ds\"):\n",
    "            b.append(a)\n",
    "            print('Введите номер полки:')\n",
    "            a = input()\n",
    "            b.append(a)   \n",
    "            del_shelf_number(b[1]) \n",
    "        elif(a == \"l\"):\n",
    "            b.append(a)\n",
    "            full_doc_info() \n",
    "        elif (a == \"q\"):\n",
    "            b.append(a)\n",
    "            print('Спасибо за обращение')"
   ]
  },
  {
   "cell_type": "code",
   "execution_count": 125,
   "id": "1e24d64e-bcfe-42bf-9903-1de7ccd172e9",
   "metadata": {},
   "outputs": [],
   "source": [
    "def check_document_owner(a): \n",
    "    res = ''\n",
    "    for i in documents: \n",
    "        if a in i.get(\"number\"):\n",
    "            res = i.get(\"name\")           \n",
    "    if res == '': print(\"Результат:\\n Документ не найден в базе\")   \n",
    "    else: print(\"Результат: \\n Владелец документа: \" + res)"
   ]
  },
  {
   "cell_type": "code",
   "execution_count": 126,
   "id": "daa2afbe-d6dd-4b20-9a5b-d5dc117429f2",
   "metadata": {},
   "outputs": [],
   "source": [
    "def check_shelf_number(a):\n",
    "    res = ''\n",
    "    for i in directories:\n",
    "        if a in directories.get(i): res = i             \n",
    "    if res == '': print(\"Результат:\\n Документ не найден в базе\")   \n",
    "    else: print(\"Результат: \\n Документ хранится на полке: \" + res)    "
   ]
  },
  {
   "cell_type": "code",
   "execution_count": 127,
   "id": "8ef75053-fa56-4e57-bb8c-32737afa014a",
   "metadata": {},
   "outputs": [],
   "source": [
    "def add_shelf_number(a):\n",
    "    ii = []\n",
    "    for i in directories.keys():\n",
    "        ii.append(i) \n",
    "    if a in ii: print(\"Такая полка уже существует. Текущий перечень полок: \" +(','.join(ii)))\n",
    "    else: \n",
    "        directories[a] = []\n",
    "        ii.append(a)\n",
    "        print(\"Полка добавлена. Текущий перечень полок: \" +(','.join(ii)))"
   ]
  },
  {
   "cell_type": "code",
   "execution_count": 128,
   "id": "5a829912-7bbc-471a-897b-48e33c3b8d53",
   "metadata": {},
   "outputs": [],
   "source": [
    "def del_shelf_number(a):\n",
    "    ii = []\n",
    "    for i in directories.keys():\n",
    "        ii.append(i) \n",
    "    if a in ii:\n",
    "        if directories.get(a) == []: \n",
    "            directories.pop(a)\n",
    "            ii.remove(a)\n",
    "            print(\"Полка удалена. Текущий перечень полок: \" +(','.join(ii)))\n",
    "        else: print(\"На полке есть документа, удалите их перед удалением полки. Текущий перечень полок: \" +(','.join(ii)))\n",
    "    else: \n",
    "        print(\"Такой полки не существует. Текущий перечень полок: \" +(','.join(ii)))"
   ]
  },
  {
   "cell_type": "code",
   "execution_count": 129,
   "id": "af42443d-c024-4858-94a7-d79f71bc3c4a",
   "metadata": {},
   "outputs": [],
   "source": [
    "def full_doc_info():\n",
    "    documents_2 = documents.copy()\n",
    "    list_documents = []\n",
    "    for i in documents:\n",
    "        list_documents.append(i.get('number'))   \n",
    "\n",
    "    for a1,a2 in directories.items():\n",
    "        for b1 in list_documents: \n",
    "            if b1 in a2: documents_2[ii.index(b1)].update({'shelf': a1})   \n",
    "\n",
    "    print(\"Результат: \\n\")\n",
    "    for i in documents_2: \n",
    "        print('№: ' + i.get('number') + ' тип: ' + i.get('type') + ' владелец: ' + i.get('name'))\n",
    "#        print('№: ' + i.get('number') + )   "
   ]
  },
  {
   "cell_type": "markdown",
   "id": "1eda709b-1bb0-4228-ab17-807370354898",
   "metadata": {},
   "source": [
    "<a id=\"excercise_1\"></a>\n",
    "# Задание 1"
   ]
  },
  {
   "cell_type": "markdown",
   "id": "abca7a44-9cd1-41a0-9921-341365975bd9",
   "metadata": {},
   "source": [
    "<a id=\"point_1\"></a>\n",
    "### Пункт 1. Пользователь по команде \"p\" может узнать владельца документа по его номеру"
   ]
  },
  {
   "cell_type": "code",
   "execution_count": 131,
   "id": "3b7554b4-b521-4d13-9a6e-5c4332fd8f4b",
   "metadata": {},
   "outputs": [
    {
     "name": "stdout",
     "output_type": "stream",
     "text": [
      "========================================= \n",
      "\n",
      "Введите команду. p - владелец документа\n",
      "s - узнать полку по номеру документа\n",
      "l - увидеть полную информацию по всем документам\n",
      "ads - добавить новую полку\n",
      "ds - удалить полку\n",
      "q - выход\n"
     ]
    },
    {
     "name": "stdin",
     "output_type": "stream",
     "text": [
      " p\n"
     ]
    },
    {
     "name": "stdout",
     "output_type": "stream",
     "text": [
      "Введите номер документа:\n"
     ]
    },
    {
     "name": "stdin",
     "output_type": "stream",
     "text": [
      " 11-2\n"
     ]
    },
    {
     "name": "stdout",
     "output_type": "stream",
     "text": [
      "Результат: \n",
      " Владелец документа: Геннадий Покемонов\n",
      "========================================= \n",
      "\n",
      "Введите команду. p - владелец документа\n",
      "s - узнать полку по номеру документа\n",
      "l - увидеть полную информацию по всем документам\n",
      "ads - добавить новую полку\n",
      "ds - удалить полку\n",
      "q - выход\n"
     ]
    },
    {
     "name": "stdin",
     "output_type": "stream",
     "text": [
      " p\n"
     ]
    },
    {
     "name": "stdout",
     "output_type": "stream",
     "text": [
      "Введите номер документа:\n"
     ]
    },
    {
     "name": "stdin",
     "output_type": "stream",
     "text": [
      " 10006\n"
     ]
    },
    {
     "name": "stdout",
     "output_type": "stream",
     "text": [
      "Результат: \n",
      " Владелец документа: Аристарх Павлов\n",
      "========================================= \n",
      "\n",
      "Введите команду. p - владелец документа\n",
      "s - узнать полку по номеру документа\n",
      "l - увидеть полную информацию по всем документам\n",
      "ads - добавить новую полку\n",
      "ds - удалить полку\n",
      "q - выход\n"
     ]
    },
    {
     "name": "stdin",
     "output_type": "stream",
     "text": [
      " p\n"
     ]
    },
    {
     "name": "stdout",
     "output_type": "stream",
     "text": [
      "Введите номер документа:\n"
     ]
    },
    {
     "name": "stdin",
     "output_type": "stream",
     "text": [
      " 123\n"
     ]
    },
    {
     "name": "stdout",
     "output_type": "stream",
     "text": [
      "Результат:\n",
      " Документ не найден в базе\n",
      "========================================= \n",
      "\n",
      "Введите команду. p - владелец документа\n",
      "s - узнать полку по номеру документа\n",
      "l - увидеть полную информацию по всем документам\n",
      "ads - добавить новую полку\n",
      "ds - удалить полку\n",
      "q - выход\n"
     ]
    },
    {
     "name": "stdin",
     "output_type": "stream",
     "text": [
      " q\n"
     ]
    },
    {
     "name": "stdout",
     "output_type": "stream",
     "text": [
      "Спасибо за обращение\n"
     ]
    }
   ],
   "source": [
    "gather_input()"
   ]
  },
  {
   "cell_type": "markdown",
   "id": "91be8b91-5728-4cf9-ae95-a6a300867d0d",
   "metadata": {},
   "source": [
    "<a id=\"point_2\"></a>\n",
    "### Пункт 2. Пользователь по команде \"s\" может по номеру документа узнать на какой полке он хранится"
   ]
  },
  {
   "cell_type": "code",
   "execution_count": 132,
   "id": "e0a576ab-4959-4e31-83f2-fa3c4cf492f7",
   "metadata": {},
   "outputs": [
    {
     "name": "stdout",
     "output_type": "stream",
     "text": [
      "========================================= \n",
      "\n",
      "Введите команду. p - владелец документа\n",
      "s - узнать полку по номеру документа\n",
      "l - увидеть полную информацию по всем документам\n",
      "ads - добавить новую полку\n",
      "ds - удалить полку\n",
      "q - выход\n"
     ]
    },
    {
     "name": "stdin",
     "output_type": "stream",
     "text": [
      " s\n"
     ]
    },
    {
     "name": "stdout",
     "output_type": "stream",
     "text": [
      "Введите номер документа:\n"
     ]
    },
    {
     "name": "stdin",
     "output_type": "stream",
     "text": [
      " 11-2\n"
     ]
    },
    {
     "name": "stdout",
     "output_type": "stream",
     "text": [
      "Результат: \n",
      " Документ хранится на полке: 1\n",
      "========================================= \n",
      "\n",
      "Введите команду. p - владелец документа\n",
      "s - узнать полку по номеру документа\n",
      "l - увидеть полную информацию по всем документам\n",
      "ads - добавить новую полку\n",
      "ds - удалить полку\n",
      "q - выход\n"
     ]
    },
    {
     "name": "stdin",
     "output_type": "stream",
     "text": [
      " s\n"
     ]
    },
    {
     "name": "stdout",
     "output_type": "stream",
     "text": [
      "Введите номер документа:\n"
     ]
    },
    {
     "name": "stdin",
     "output_type": "stream",
     "text": [
      " 123\n"
     ]
    },
    {
     "name": "stdout",
     "output_type": "stream",
     "text": [
      "Результат:\n",
      " Документ не найден в базе\n",
      "========================================= \n",
      "\n",
      "Введите команду. p - владелец документа\n",
      "s - узнать полку по номеру документа\n",
      "l - увидеть полную информацию по всем документам\n",
      "ads - добавить новую полку\n",
      "ds - удалить полку\n",
      "q - выход\n"
     ]
    },
    {
     "name": "stdin",
     "output_type": "stream",
     "text": [
      " q\n"
     ]
    },
    {
     "name": "stdout",
     "output_type": "stream",
     "text": [
      "Спасибо за обращение\n"
     ]
    }
   ],
   "source": [
    "gather_input()"
   ]
  },
  {
   "cell_type": "markdown",
   "id": "f15f7cab-bf8b-4760-b1e8-d3ec4a0aeabc",
   "metadata": {},
   "source": [
    "<a id=\"point_3\"></a>\n",
    "### Пункт 3. Пользователь по команде \"l\" может увидеть полную информацию по всем документам"
   ]
  },
  {
   "cell_type": "code",
   "execution_count": 133,
   "id": "32936cba-f5c0-439f-b5b8-050b4ef6f8be",
   "metadata": {},
   "outputs": [
    {
     "name": "stdout",
     "output_type": "stream",
     "text": [
      "========================================= \n",
      "\n",
      "Введите команду. p - владелец документа\n",
      "s - узнать полку по номеру документа\n",
      "l - увидеть полную информацию по всем документам\n",
      "ads - добавить новую полку\n",
      "ds - удалить полку\n",
      "q - выход\n"
     ]
    },
    {
     "name": "stdin",
     "output_type": "stream",
     "text": [
      " l\n"
     ]
    },
    {
     "name": "stdout",
     "output_type": "stream",
     "text": [
      "Результат: \n",
      "\n",
      "№: 2207 876234 тип: passport владелец: Василий Гупкин\n",
      "№: 11-2 тип: invoice владелец: Геннадий Покемонов\n",
      "№: 10006 тип: insurance владелец: Аристарх Павлов\n",
      "========================================= \n",
      "\n",
      "Введите команду. p - владелец документа\n",
      "s - узнать полку по номеру документа\n",
      "l - увидеть полную информацию по всем документам\n",
      "ads - добавить новую полку\n",
      "ds - удалить полку\n",
      "q - выход\n"
     ]
    },
    {
     "name": "stdin",
     "output_type": "stream",
     "text": [
      " q\n"
     ]
    },
    {
     "name": "stdout",
     "output_type": "stream",
     "text": [
      "Спасибо за обращение\n"
     ]
    }
   ],
   "source": [
    "gather_input()"
   ]
  },
  {
   "cell_type": "markdown",
   "id": "8a2aed4d-e686-4d99-9232-c8a94fdead2a",
   "metadata": {},
   "source": [
    "<a id=\"point_4\"></a>\n",
    "### Пункт 4. Пользователь по команде \"ads\" может добавить новую полку"
   ]
  },
  {
   "cell_type": "code",
   "execution_count": 135,
   "id": "e0d08432-0eb4-4490-b914-41269ad75a2e",
   "metadata": {},
   "outputs": [
    {
     "name": "stdout",
     "output_type": "stream",
     "text": [
      "========================================= \n",
      "\n",
      "Введите команду. p - владелец документа\n",
      "s - узнать полку по номеру документа\n",
      "l - увидеть полную информацию по всем документам\n",
      "ads - добавить новую полку\n",
      "ds - удалить полку\n",
      "q - выход\n"
     ]
    },
    {
     "name": "stdin",
     "output_type": "stream",
     "text": [
      " ads\n"
     ]
    },
    {
     "name": "stdout",
     "output_type": "stream",
     "text": [
      "Введите номер полки:\n"
     ]
    },
    {
     "name": "stdin",
     "output_type": "stream",
     "text": [
      " 13\n"
     ]
    },
    {
     "name": "stdout",
     "output_type": "stream",
     "text": [
      "Такая полка уже существует. Текущий перечень полок: 1,2,3,13\n",
      "========================================= \n",
      "\n",
      "Введите команду. p - владелец документа\n",
      "s - узнать полку по номеру документа\n",
      "l - увидеть полную информацию по всем документам\n",
      "ads - добавить новую полку\n",
      "ds - удалить полку\n",
      "q - выход\n"
     ]
    },
    {
     "name": "stdin",
     "output_type": "stream",
     "text": [
      " ads\n"
     ]
    },
    {
     "name": "stdout",
     "output_type": "stream",
     "text": [
      "Введите номер полки:\n"
     ]
    },
    {
     "name": "stdin",
     "output_type": "stream",
     "text": [
      " 14\n"
     ]
    },
    {
     "name": "stdout",
     "output_type": "stream",
     "text": [
      "Полка добавлена. Текущий перечень полок: 1,2,3,13,14\n",
      "========================================= \n",
      "\n",
      "Введите команду. p - владелец документа\n",
      "s - узнать полку по номеру документа\n",
      "l - увидеть полную информацию по всем документам\n",
      "ads - добавить новую полку\n",
      "ds - удалить полку\n",
      "q - выход\n"
     ]
    },
    {
     "name": "stdin",
     "output_type": "stream",
     "text": [
      " q\n"
     ]
    },
    {
     "name": "stdout",
     "output_type": "stream",
     "text": [
      "Спасибо за обращение\n"
     ]
    }
   ],
   "source": [
    "gather_input()"
   ]
  },
  {
   "cell_type": "markdown",
   "id": "53c2d3c2-1d97-4677-9bcf-00d9bf4ef482",
   "metadata": {},
   "source": [
    "<a id=\"point_5\"></a>\n",
    "### Пункт 5. Пользователь по команде \"ds\" может удалить существующую полку из данных (только если она пустая)"
   ]
  },
  {
   "cell_type": "code",
   "execution_count": 136,
   "id": "7144967c-46c3-46fd-9094-272b479f45c7",
   "metadata": {},
   "outputs": [
    {
     "name": "stdout",
     "output_type": "stream",
     "text": [
      "========================================= \n",
      "\n",
      "Введите команду. p - владелец документа\n",
      "s - узнать полку по номеру документа\n",
      "l - увидеть полную информацию по всем документам\n",
      "ads - добавить новую полку\n",
      "ds - удалить полку\n",
      "q - выход\n"
     ]
    },
    {
     "name": "stdin",
     "output_type": "stream",
     "text": [
      " ds\n"
     ]
    },
    {
     "name": "stdout",
     "output_type": "stream",
     "text": [
      "Введите номер полки:\n"
     ]
    },
    {
     "name": "stdin",
     "output_type": "stream",
     "text": [
      " 13\n"
     ]
    },
    {
     "name": "stdout",
     "output_type": "stream",
     "text": [
      "Полка удалена. Текущий перечень полок: 1,2,3,14\n",
      "========================================= \n",
      "\n",
      "Введите команду. p - владелец документа\n",
      "s - узнать полку по номеру документа\n",
      "l - увидеть полную информацию по всем документам\n",
      "ads - добавить новую полку\n",
      "ds - удалить полку\n",
      "q - выход\n"
     ]
    },
    {
     "name": "stdin",
     "output_type": "stream",
     "text": [
      " ds\n"
     ]
    },
    {
     "name": "stdout",
     "output_type": "stream",
     "text": [
      "Введите номер полки:\n"
     ]
    },
    {
     "name": "stdin",
     "output_type": "stream",
     "text": [
      " 1\n"
     ]
    },
    {
     "name": "stdout",
     "output_type": "stream",
     "text": [
      "На полке есть документа, удалите их перед удалением полки. Текущий перечень полок: 1,2,3,14\n",
      "========================================= \n",
      "\n",
      "Введите команду. p - владелец документа\n",
      "s - узнать полку по номеру документа\n",
      "l - увидеть полную информацию по всем документам\n",
      "ads - добавить новую полку\n",
      "ds - удалить полку\n",
      "q - выход\n"
     ]
    },
    {
     "name": "stdin",
     "output_type": "stream",
     "text": [
      " q\n"
     ]
    },
    {
     "name": "stdout",
     "output_type": "stream",
     "text": [
      "Спасибо за обращение\n"
     ]
    }
   ],
   "source": [
    "gather_input()"
   ]
  },
  {
   "cell_type": "code",
   "execution_count": null,
   "id": "1fe6c7ab-bcbb-45e8-8e4b-c5b0183d208b",
   "metadata": {},
   "outputs": [],
   "source": []
  }
 ],
 "metadata": {
  "kernelspec": {
   "display_name": "Python 3 (ipykernel)",
   "language": "python",
   "name": "python3"
  },
  "language_info": {
   "codemirror_mode": {
    "name": "ipython",
    "version": 3
   },
   "file_extension": ".py",
   "mimetype": "text/x-python",
   "name": "python",
   "nbconvert_exporter": "python",
   "pygments_lexer": "ipython3",
   "version": "3.9.7"
  }
 },
 "nbformat": 4,
 "nbformat_minor": 5
}
