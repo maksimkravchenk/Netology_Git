{
 "cells": [
  {
   "cell_type": "markdown",
   "id": "43149274-3d5c-4441-99ca-2f6c7ef7bf98",
   "metadata": {},
   "source": [
    "# Задание"
   ]
  },
  {
   "cell_type": "markdown",
   "id": "a539fc2c-ea6a-4b03-b8bb-540dee2ba187",
   "metadata": {},
   "source": [
    "1. [Задание 1](#excercise_1)\n",
    "2. [Задание 2](#excercise_2)\n",
    "3. [Задание 3](#excercise_3)"
   ]
  },
  {
   "cell_type": "markdown",
   "id": "559539ce-dd75-4651-98dd-1d951984fa1c",
   "metadata": {},
   "source": [
    "<a id=\"excercise_1\"></a>\n",
    "1. Выберите 15 стран с наибольшим процентом переболевших на 31 марта (в выходящем датасете необходимы колонки: iso_code, страна, процент переболевших)"
   ]
  },
  {
   "cell_type": "raw",
   "id": "4a35b2e9-999d-461f-9cf1-3dd6249af796",
   "metadata": {},
   "source": [
    "pyspark\n",
    "df = spark.read.load(\"/opt/bitnami/spark/owid-covid-data.csv\",format=\"csv\", inferSchema=\"true\", header=\"true\")\n",
    "table = df.createOrReplaceTempView(\"table\")\n",
    "sqlDF = spark.sql(\"SELECT iso_code,location,CAST(100*(total_cases/population) as decimal(10,2)) as cases_population_ratio FROM table WHERE date = '2021-03-31' AND iso_code NOT IN ('OWID_WRL','OWID_EUR','OWID_NAM','OWID_ASI','OWID_EUN','OWID_SAM','OWID_AFR') ORDER BY cases_population_ratio DESC\")\n",
    "sqlDF.show(15)"
   ]
  },
  {
   "cell_type": "raw",
   "id": "411161d2-3c77-40bf-b715-249d5fb85b44",
   "metadata": {},
   "source": [
    ">>> sqlDF = spark.sql(\"SELECT iso_code,location,CAST(100*(total_cases/population) as decimal(10,2)) as cases_population_ratio FROM table WHERE date = '2021-03-31' AND iso_code NOT IN ('OWID_WRL','OWID_EUR','OWID_NAM','OWID_ASI','OWID_EUN','OWID_SAM','OWID_AFR') ORDER BY cases_population_ratio DESC\")\n",
    ">>> sqlDF.show(15)\n",
    "+--------+-------------+----------------------+\n",
    "|iso_code|     location|cases_population_ratio|\n",
    "+--------+-------------+----------------------+\n",
    "|     AND|      Andorra|                 15.54|\n",
    "|     MNE|   Montenegro|                 14.52|\n",
    "|     CZE|      Czechia|                 14.31|\n",
    "|     SMR|   San Marino|                 13.94|\n",
    "|     SVN|     Slovenia|                 10.37|\n",
    "|     LUX|   Luxembourg|                  9.85|\n",
    "|     ISR|       Israel|                  9.63|\n",
    "|     USA|United States|                  9.20|\n",
    "|     SRB|       Serbia|                  8.83|\n",
    "|     BHR|      Bahrain|                  8.49|\n",
    "|     PAN|       Panama|                  8.23|\n",
    "|     PRT|     Portugal|                  8.06|\n",
    "|     EST|      Estonia|                  8.02|\n",
    "|     SWE|       Sweden|                  7.97|\n",
    "|     LTU|    Lithuania|                  7.94|\n",
    "+--------+-------------+----------------------+\n",
    "only showing top 15 rows\n"
   ]
  },
  {
   "cell_type": "code",
   "execution_count": null,
   "id": "9e9f7694-532b-4fca-b2fd-c2d20bfdd4d3",
   "metadata": {},
   "outputs": [],
   "source": []
  },
  {
   "cell_type": "markdown",
   "id": "515d722b-1405-4649-9d96-f2b745d2fe52",
   "metadata": {},
   "source": [
    "<a id=\"excercise_2\"></a>\n",
    "2. Top 10 стран с максимальным зафиксированным кол-вом новых случаев за последнюю неделю марта 2021 в отсортированном порядке по убыванию\n",
    "(в выходящем датасете необходимы колонки: число, страна, кол-во новых случаев)"
   ]
  },
  {
   "cell_type": "raw",
   "id": "9d355653-885f-409d-8695-7acdbbbcc658",
   "metadata": {},
   "source": [
    "sqlDF_2 = spark.sql(\"SELECT date,iso_code, new_cases  FROM table WHERE date > '2021-03-27' AND date < '2021-04-04' AND iso_code NOT IN ('OWID_WRL','OWID_EUR','OWID_NAM','OWID_ASI','OWID_EUN','OWID_SAM','OWID_AFR') ORDER BY new_cases DESC\")\n",
    "sqlDF_2.show(10)"
   ]
  },
  {
   "cell_type": "raw",
   "id": "86e7ceee-096b-46d3-be09-bcca9d57ca05",
   "metadata": {},
   "source": [
    ">>> sqlDF_2 = spark.sql(\"SELECT date,iso_code, new_cases  FROM table WHERE date > '2021-03-27' AND date < '2021-04-04' AND iso_code NOT IN ('OWID_WRL','OWID_EUR','OWID_NAM','OWID_ASI','OWID_EUN','OWID_SAM','OWID_AFR') ORDER BY new_cases DESC\")\n",
    ">>> sqlDF_2.show(10)\n",
    "+----------+--------+---------+\n",
    "|      date|iso_code|new_cases|\n",
    "+----------+--------+---------+\n",
    "|2021-04-03|     IND|  93249.0|\n",
    "|2021-04-01|     BRA|  91097.0|\n",
    "|2021-03-31|     BRA|  90638.0|\n",
    "|2021-04-02|     IND|  89129.0|\n",
    "|2021-03-30|     BRA|  84494.0|\n",
    "|2021-04-01|     IND|  81466.0|\n",
    "|2021-04-01|     USA|  79045.0|\n",
    "|2021-03-31|     IND|  72330.0|\n",
    "|2021-04-02|     BRA|  70238.0|\n",
    "|2021-04-02|     USA|  69831.0|\n",
    "+----------+--------+---------+\n",
    "only showing top 10 rows\n"
   ]
  },
  {
   "cell_type": "markdown",
   "id": "2dc8ac0e-138f-45d5-9b1a-de2d1d497d13",
   "metadata": {},
   "source": [
    "<a id=\"excercise_3\"></a>\n",
    "3. Посчитайте изменение случаев относительно предыдущего дня в России за последнюю неделю марта 2021. (например: в россии вчера было 9150 , сегодня 8763, итог: -387) (в выходящем датасете необходимы колонки: число, кол-во новых случаев вчера, кол-во новых случаев сегодня, дельта)"
   ]
  },
  {
   "cell_type": "raw",
   "id": "593f0ba9-525d-4aee-8396-c7edc9f063ec",
   "metadata": {},
   "source": [
    "sqlDF_3_1 = spark.sql(\"SELECT new_cases as new_cases_previous FROM table WHERE date > '2021-03-26' AND date < '2021-04-03' AND iso_code = 'RUS'\")\n",
    "sqlDF_3_2 = spark.sql(\"SELECT date,new_cases FROM table WHERE date > '2021-03-27' AND date < '2021-04-04' AND iso_code = 'RUS'\")\n",
    "joinDF_3_3 = sqlDF_3_2.select('date').join(sqlDF_3_1).join(sqlDF_3_2.select('new_cases'))\n",
    "joinDF_3_3 = joinDF_3_3.withColumn('delta', ( joinDF_3_3['new_cases'] - joinDF_3_3['new_cases_previous'] ))\n",
    "joinDF_3_3.show()"
   ]
  },
  {
   "cell_type": "raw",
   "id": "6e5f86f7-b3cf-4348-bed6-5e9f30dd73b4",
   "metadata": {},
   "source": [
    ">>> sqlDF_3_1 = spark.sql(\"SELECT new_cases as new_cases_previous FROM table WHERE date > '2021-03-26' AND date < '2021-04-03' AND iso_code = 'RUS'\")\n",
    ">>> sqlDF_3_2 = spark.sql(\"SELECT date,new_cases FROM table WHERE date > '2021-03-27' AND date < '2021-04-04' AND iso_code = 'RUS'\")\n",
    ">>> joinDF_3_3 = sqlDF_3_2.select('date').join(sqlDF_3_1).join(sqlDF_3_2.select('new_cases'))\n",
    ">>> joinDF_3_3 = joinDF_3_3.withColumn('delta', ( joinDF_3_3['new_cases'] - joinDF_3_3['new_cases_previous'] ))\n",
    ">>> joinDF_3_3.show()\n",
    "+----------+------------------+---------+------+\n",
    "|      date|new_cases_previous|new_cases| delta|\n",
    "+----------+------------------+---------+------+\n",
    "|2021-03-28|            8783.0|   8979.0| 196.0|\n",
    "|2021-03-28|            8783.0|   8589.0|-194.0|\n",
    "|2021-03-28|            8783.0|   8162.0|-621.0|\n",
    "|2021-03-28|            8783.0|   8156.0|-627.0|\n",
    "|2021-03-28|            8783.0|   9057.0| 274.0|\n",
    "|2021-03-28|            8783.0|   8682.0|-101.0|\n",
    "|2021-03-28|            8783.0|   8906.0| 123.0|\n",
    "|2021-03-28|            8979.0|   8979.0|   0.0|\n",
    "|2021-03-28|            8979.0|   8589.0|-390.0|\n",
    "|2021-03-28|            8979.0|   8162.0|-817.0|\n",
    "|2021-03-28|            8979.0|   8156.0|-823.0|\n",
    "|2021-03-28|            8979.0|   9057.0|  78.0|\n",
    "|2021-03-28|            8979.0|   8682.0|-297.0|\n",
    "|2021-03-28|            8979.0|   8906.0| -73.0|\n",
    "|2021-03-28|            8589.0|   8979.0| 390.0|\n",
    "|2021-03-28|            8589.0|   8589.0|   0.0|\n",
    "|2021-03-28|            8589.0|   8162.0|-427.0|\n",
    "|2021-03-28|            8589.0|   8156.0|-433.0|\n",
    "|2021-03-28|            8589.0|   9057.0| 468.0|\n",
    "|2021-03-28|            8589.0|   8682.0|  93.0|\n",
    "+----------+------------------+---------+------+\n",
    "only showing top 20 rows\n"
   ]
  },
  {
   "cell_type": "code",
   "execution_count": null,
   "id": "b97067b7-dc3c-4d8a-ba27-bad3ae655d5e",
   "metadata": {},
   "outputs": [],
   "source": []
  }
 ],
 "metadata": {
  "kernelspec": {
   "display_name": "Python 3 (ipykernel)",
   "language": "python",
   "name": "python3"
  },
  "language_info": {
   "codemirror_mode": {
    "name": "ipython",
    "version": 3
   },
   "file_extension": ".py",
   "mimetype": "text/x-python",
   "name": "python",
   "nbconvert_exporter": "python",
   "pygments_lexer": "ipython3",
   "version": "3.9.7"
  }
 },
 "nbformat": 4,
 "nbformat_minor": 5
}
