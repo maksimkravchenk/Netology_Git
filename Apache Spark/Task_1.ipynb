{
 "cells": [
  {
   "cell_type": "markdown",
   "id": "825f3d17-3297-4ad5-ade7-fea11ec68e05",
   "metadata": {},
   "source": [
    "# Задание"
   ]
  },
  {
   "cell_type": "markdown",
   "id": "32ce7071-8137-48f8-8409-6e89dd03e9b3",
   "metadata": {},
   "source": [
    "В файле movies.csv лежит база фильмов. Название фильма записано во втором столбце title.\n",
    "Разбейте названия фильмов на отдельные слова и посчитайте какое слово встречается чаще всего.\n",
    "\n",
    "Если у вас не получится со Спарком, то сделайте задание просто на питоне.\n"
   ]
  },
  {
   "cell_type": "raw",
   "id": "ce37fcef-de82-4a4f-a3d4-b684b4a5ff7d",
   "metadata": {},
   "source": [
    "//--------------------------------------------------------------------------------------------------\n",
    "// Module Spark\n",
    "//--------------------------------------------------------------------------------------------------\n",
    "// one time run. download the environment container and compose file\n",
    "sudo docker pull bitnami/spark\n",
    "curl -LO https://raw.githubusercontent.com/bitnami/bitnami-docker-spark/master/docker-compose.yml\n",
    "sudo apt install --yes docker-compose -d\n",
    "\n",
    "sudo docker image ls   \n",
    "\n",
    "//Run the container  \n",
    "sudo docker-compose up -d\n",
    "\n",
    "//Copy the folder to the spark container  \n",
    "cd /home/maksimkravchenk/  \n",
    "sudo docker cp -r ml-25m $(sudo docker ps | grep $(sudo docker image ls | grep cloudera | awk '{print $3}') | awk '{print $1}'):/ratings.csv  \n",
    "sudo docker exec -it --user root $(sudo docker ps | grep -e spark_1 | awk '{print$1}') mkdir /opt/bitnami/spark/output  \n",
    "sudo docker exec -it --user root $(sudo docker ps | grep -e spark_1 | awk '{print$1}') chown 777 /opt/bitnami/spark/output  \n",
    "sudo docker exec -it --user root $(sudo docker ps | grep -e spark_1 | awk '{print$1}') bash  \n",
    "sudo docker-compose exec spark bash  "
   ]
  },
  {
   "cell_type": "raw",
   "id": "c1b5be51-0138-49b9-9269-249ab84f9a79",
   "metadata": {},
   "source": [
    "//pyspark commands\n",
    "pyspark\n",
    "data = sc.textFile('/opt/bitnami/spark/ml-25m/movies.csv')\n",
    "data.count()\n",
    "step_1 = data.map(lambda x: x.split(',')[1])\n",
    "step_1 #mapper for the string\n",
    "step_2 = step_1.flatMap(lambda x: x.split(' ')).map(lambda x: (x,1))\n",
    "step_2 # split words in the column title to subcolumn with value 1\n",
    "step_3 = step_2.reduceByKey(lambda a,b: a+b).takeOrdered(5, key = lambda x: -x[1])\n",
    "step_3\n"
   ]
  },
  {
   "cell_type": "markdown",
   "id": "687776cd-f095-43e8-a07f-0109373d87af",
   "metadata": {},
   "source": [
    "### Output:"
   ]
  },
  {
   "cell_type": "raw",
   "id": "53164fa6-4287-468b-b1b3-326cee999be4",
   "metadata": {},
   "source": [
    ">>> data = sc.textFile('/opt/bitnami/spark/ml-25m/movies.csv')\n",
    "step_1 = data.map(lambda x: x.split(',')[1])\n",
    "step_1 #mapper for the string\n",
    "step_2 = step_1.flatMap(lambda x: x.split(' ')).map(lambda x: (x,1))\n",
    "step_2 # split words in the column title to subcolumn with value 1\n",
    "step_3 = step_2.reduceByKey(lambda a,b: a+b).takeOrdered(5, key = lambda x: -x[1])\n",
    "step_3>>> data.count()\n",
    "62424\n",
    ">>> step_1 = data.map(lambda x: x.split(',')[1])\n",
    ">>> step_1 #mapper for the string\n",
    "PythonRDD[3] at RDD at PythonRDD.scala:53\n",
    ">>> step_2 = step_1.flatMap(lambda x: x.split(' ')).map(lambda x: (x,1))\n",
    ">>> step_2 # split words in the column title to subcolumn with value 1\n",
    "PythonRDD[4] at RDD at PythonRDD.scala:53\n",
    ">>> step_3 = step_2.reduceByKey(lambda a,b: a+b).takeOrdered(5, key = lambda x: -x[1])\n",
    ">>> step_3\n",
    "[('The', 8820), ('of', 6367), ('the', 5855), ('(2015)', 2457), ('(2016)', 2448)]\n",
    ">>>\n"
   ]
  },
  {
   "cell_type": "markdown",
   "id": "90e75c43-7c73-444c-b830-fb8d2fa620db",
   "metadata": {},
   "source": [
    "### Result:"
   ]
  },
  {
   "cell_type": "markdown",
   "id": "34ab1936-de2e-40c2-a739-afec8f172663",
   "metadata": {},
   "source": [
    "[('The', 8820), ('of', 6367), ('the', 5855), ('(2015)', 2457), ('(2016)', 2448)]"
   ]
  },
  {
   "cell_type": "code",
   "execution_count": null,
   "id": "d7e267a1-de49-46d7-9cd7-8640f431ffdf",
   "metadata": {},
   "outputs": [],
   "source": []
  }
 ],
 "metadata": {
  "kernelspec": {
   "display_name": "Python 3 (ipykernel)",
   "language": "python",
   "name": "python3"
  },
  "language_info": {
   "codemirror_mode": {
    "name": "ipython",
    "version": 3
   },
   "file_extension": ".py",
   "mimetype": "text/x-python",
   "name": "python",
   "nbconvert_exporter": "python",
   "pygments_lexer": "ipython3",
   "version": "3.9.7"
  }
 },
 "nbformat": 4,
 "nbformat_minor": 5
}
