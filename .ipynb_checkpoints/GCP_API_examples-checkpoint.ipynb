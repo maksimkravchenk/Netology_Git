{
 "cells": [
  {
   "cell_type": "markdown",
   "id": "0ceebb5d-c7fb-4898-90fd-9ea0654edd3a",
   "metadata": {},
   "source": [
    "# Reference"
   ]
  },
  {
   "cell_type": "markdown",
   "id": "d4d6e067-293a-45af-8b2b-c410080a5b1a",
   "metadata": {},
   "source": [
    "### [How to setup OS environment and GOOGLE_APPLICATION_CREDENTIALS](#os_env)  \n",
    "\n",
    "### [How to setup API in BigQuery](#bigquery)  \n",
    "  1 [Google cloud bigquery client](#bigqueryclient)  \n",
    "  2 [Google cloud bigquery magics](#bigquerymagics)\n",
    "  \n",
    "### [How to setup API in Google Cloud Storage](#CloudStorage)\n"
   ]
  },
  {
   "cell_type": "code",
   "execution_count": null,
   "id": "9758516b-c09d-4386-8a49-96ee47e993a8",
   "metadata": {},
   "outputs": [],
   "source": []
  },
  {
   "cell_type": "code",
   "execution_count": null,
   "id": "e329d079-73a4-4cf4-9db9-224803beb22c",
   "metadata": {},
   "outputs": [],
   "source": []
  },
  {
   "cell_type": "markdown",
   "id": "9be43235-ce2b-4761-ab4e-49f40f227e0e",
   "metadata": {},
   "source": [
    "<a id='os_env'></a>\n",
    "### How to setup OS environment and GOOGLE_APPLICATION_CREDENTIALS"
   ]
  },
  {
   "cell_type": "code",
   "execution_count": null,
   "id": "fb9abf95-e63c-47e3-8776-4f3226a65551",
   "metadata": {},
   "outputs": [],
   "source": [
    "#key location C:\\Users\\peaceful-parity-336514-f361713c806a.json\n",
    "# $env:GOOGLE_APPLICATION_CREDENTIALS=\"C:\\Users\\peaceful-parity-336514-f361713c806a.json\""
   ]
  },
  {
   "cell_type": "code",
   "execution_count": null,
   "id": "488a0c2f-8415-4fb8-ac0c-7389674c99ed",
   "metadata": {},
   "outputs": [],
   "source": []
  },
  {
   "cell_type": "markdown",
   "id": "641081d4-3873-40f6-abd2-fe7c52ed9e96",
   "metadata": {},
   "source": [
    "<a id='bigquery'></a>\n",
    "### How to setup work with bigquery"
   ]
  },
  {
   "cell_type": "code",
   "execution_count": 12,
   "id": "6bf12dcd-2db2-4234-b706-4d957e0dbd35",
   "metadata": {},
   "outputs": [],
   "source": [
    "# Please ensure that you have enabled the API in the GCP (check in the console) "
   ]
  },
  {
   "cell_type": "code",
   "execution_count": 7,
   "id": "3a5a66c1-0d70-479b-80b4-00aa199f2562",
   "metadata": {},
   "outputs": [
    {
     "name": "stdout",
     "output_type": "stream",
     "text": [
      "C:\\Users\\peaceful-parity-336514-f361713c806a.json\n"
     ]
    }
   ],
   "source": [
    "from google.cloud import bigquery\n",
    "from google.oauth2 import service_account\n",
    "\n",
    "# this is the path to the key file which you get from the GCP \n",
    "key_path = \"C:\\\\Users\\\\peaceful-parity-336514-f361713c806a.json\"\n",
    "print(key_path)"
   ]
  },
  {
   "cell_type": "code",
   "execution_count": 8,
   "id": "4ba41160-d20a-44e1-9706-02f616dc8174",
   "metadata": {},
   "outputs": [],
   "source": [
    "credentials = service_account.Credentials.from_service_account_file(\n",
    "    key_path, scopes=[\"https://www.googleapis.com/auth/cloud-platform\"],\n",
    ")"
   ]
  },
  {
   "cell_type": "code",
   "execution_count": 9,
   "id": "8e990e4d-0df8-4844-ab91-b55b7c3a1ed4",
   "metadata": {},
   "outputs": [
    {
     "name": "stdout",
     "output_type": "stream",
     "text": [
      "peaceful-parity-336514\n",
      "<google.oauth2.service_account.Credentials object at 0x000002C55DB1FB20>\n"
     ]
    }
   ],
   "source": [
    "print(credentials.project_id)\n",
    "print(credentials)"
   ]
  },
  {
   "cell_type": "code",
   "execution_count": 4,
   "id": "35a24986-c9fe-490d-a950-8b1de363b80e",
   "metadata": {},
   "outputs": [],
   "source": [
    "#Setup the GCP client. \n",
    "#Create the object of the client credentials and project_id comes from the key file \n",
    "client = bigquery.Client(credentials=credentials, project=credentials.project_id,)"
   ]
  },
  {
   "cell_type": "code",
   "execution_count": null,
   "id": "3d4abf5e-ec48-4e05-8c3c-4d27a6b8596b",
   "metadata": {},
   "outputs": [],
   "source": []
  },
  {
   "cell_type": "markdown",
   "id": "adb90be6-ccf8-47c6-bb5c-318904a731d0",
   "metadata": {},
   "source": [
    "<a id='bigqueryclient'></a>\n",
    "### Google cloud bigquery client"
   ]
  },
  {
   "cell_type": "code",
   "execution_count": 29,
   "id": "9ff108a0-6d1e-4140-9c11-c9d1eaf62398",
   "metadata": {},
   "outputs": [
    {
     "name": "stdout",
     "output_type": "stream",
     "text": [
      "QueryJob<project=peaceful-parity-336514, location=US, id=3c1cc684-283c-45cc-9589-12a31e6eacfb> \n",
      "\n",
      "The query data:\n",
      "name=James, count=272793\n",
      "name=John, count=235139\n",
      "name=Michael, count=225320\n",
      "name=Robert, count=220399\n",
      "name=David, count=219028\n",
      "name=Mary, count=209893\n",
      "name=William, count=173092\n",
      "name=Jose, count=157362\n",
      "name=Christopher, count=144196\n",
      "name=Maria, count=131056\n",
      "name=Charles, count=126509\n",
      "name=Daniel, count=117470\n",
      "name=Richard, count=109888\n",
      "name=Juan, count=109808\n",
      "name=Jennifer, count=98696\n",
      "name=Joshua, count=90679\n",
      "name=Elizabeth, count=90465\n",
      "name=Joseph, count=89097\n",
      "name=Matthew, count=88464\n",
      "name=Joe, count=87977\n"
     ]
    }
   ],
   "source": [
    "#example of the test query to check that setup is working \n",
    "query = \"\"\"\n",
    "    SELECT name, SUM(number) as total_people\n",
    "    FROM `bigquery-public-data.usa_names.usa_1910_2013`\n",
    "    WHERE state = 'TX'\n",
    "    GROUP BY name, state\n",
    "    ORDER BY total_people DESC\n",
    "    LIMIT 20\n",
    "\"\"\"\n",
    "query_job = client.query(query)  # Make an API request.\n",
    "print(query_job, \"\\n\")\n",
    "print(\"The query data:\")\n",
    "for row in query_job:\n",
    "    # Row values can be accessed by field name or index.\n",
    "    print(\"name={}, count={}\".format(row[0], row[\"total_people\"]))"
   ]
  },
  {
   "cell_type": "code",
   "execution_count": null,
   "id": "074a28fb-4bda-42e9-94c1-1306611cb101",
   "metadata": {},
   "outputs": [],
   "source": []
  },
  {
   "cell_type": "markdown",
   "id": "211b6c72-f75a-4fea-9df2-0ec75df535b9",
   "metadata": {},
   "source": [
    "<a id='bigquerymagics'></a>\n",
    "### Google cloud bigquery magics"
   ]
  },
  {
   "cell_type": "code",
   "execution_count": 50,
   "id": "586cac81-4568-4f25-b30a-fd65e1abc7db",
   "metadata": {},
   "outputs": [],
   "source": [
    "#To be Added"
   ]
  },
  {
   "cell_type": "code",
   "execution_count": null,
   "id": "6171d075-b920-4ab8-997e-97c8ef3e2aa6",
   "metadata": {},
   "outputs": [],
   "source": []
  },
  {
   "cell_type": "markdown",
   "id": "cda8c0a6-342f-4e6f-ba19-dc7c4d164a9d",
   "metadata": {},
   "source": [
    "<a id='CloudStorage'></a>\n",
    "### How to setup API in Google Cloud Storage"
   ]
  },
  {
   "cell_type": "code",
   "execution_count": 52,
   "id": "232cb8d6-45ec-4a05-bc29-1a286a6ed27c",
   "metadata": {},
   "outputs": [],
   "source": [
    "# pip install --upgrade google-cloud-storage"
   ]
  },
  {
   "cell_type": "code",
   "execution_count": 15,
   "id": "702ddbab-3681-4cde-bfd1-34456ac9776c",
   "metadata": {},
   "outputs": [
    {
     "name": "stdout",
     "output_type": "stream",
     "text": [
      "C:\\Users\\peaceful-parity-336514-f361713c806a.json\n",
      "peaceful-parity-336514\n",
      "<google.oauth2.service_account.Credentials object at 0x000002C54DECED30>\n"
     ]
    }
   ],
   "source": [
    "from google.cloud import storage\n",
    "from google.oauth2 import service_account\n",
    "\n",
    "\n",
    "# this is the path to the key file which you get from the GCP \n",
    "key_path = \"C:\\\\Users\\\\peaceful-parity-336514-f361713c806a.json\"\n",
    "print(key_path)\n",
    "\n",
    "credentials = service_account.Credentials.from_service_account_file(\n",
    "    key_path, scopes=[\"https://www.googleapis.com/auth/cloud-platform\"],\n",
    ")\n",
    "print(credentials.project_id)\n",
    "print(credentials)"
   ]
  },
  {
   "cell_type": "code",
   "execution_count": 16,
   "id": "9557c32f-f3cb-4c11-898e-307f183c39cb",
   "metadata": {},
   "outputs": [],
   "source": [
    "storage_client = storage.Client(credentials=credentials, project=credentials.project_id)"
   ]
  },
  {
   "cell_type": "code",
   "execution_count": 18,
   "id": "8242ce3e-fdc8-43e7-a1dd-9a38f895fffb",
   "metadata": {},
   "outputs": [],
   "source": [
    "# The name for the new bucket\n",
    "bucket_name = \"dataproc_lab_bucket\""
   ]
  },
  {
   "cell_type": "code",
   "execution_count": 32,
   "id": "a4b2da0c-7220-49e4-8b48-3f25591246c6",
   "metadata": {},
   "outputs": [
    {
     "name": "stdout",
     "output_type": "stream",
     "text": [
      "Bucket dataproc_lab_bucket created\n",
      "Bucket deleted\n"
     ]
    }
   ],
   "source": [
    "# Creates the new bucket\n",
    "bucket = storage_client.create_bucket(bucket_name)\n",
    "print(\"Bucket {} created\".format(bucket.name))\n",
    "\n",
    "\n",
    "#Delete bucket\n",
    "bucket = storage_client.get_bucket(bucket_name).delete() \n",
    "print(\"Bucket deleted\")"
   ]
  },
  {
   "cell_type": "code",
   "execution_count": 23,
   "id": "881d4aed-c445-49bd-81fa-394ca0607bf1",
   "metadata": {},
   "outputs": [],
   "source": [
    "bucket = storage_client.get_bucket(bucket_name).delete()"
   ]
  },
  {
   "cell_type": "code",
   "execution_count": null,
   "id": "4afc788b-c705-456b-a24d-c3306b5a4e7d",
   "metadata": {},
   "outputs": [],
   "source": []
  }
 ],
 "metadata": {
  "kernelspec": {
   "display_name": "Python 3 (ipykernel)",
   "language": "python",
   "name": "python3"
  },
  "language_info": {
   "codemirror_mode": {
    "name": "ipython",
    "version": 3
   },
   "file_extension": ".py",
   "mimetype": "text/x-python",
   "name": "python",
   "nbconvert_exporter": "python",
   "pygments_lexer": "ipython3",
   "version": "3.9.7"
  }
 },
 "nbformat": 4,
 "nbformat_minor": 5
}
