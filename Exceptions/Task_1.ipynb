{
 "cells": [
  {
   "cell_type": "markdown",
   "id": "42708e9a-30da-4258-a742-83bb1fac4e4f",
   "metadata": {},
   "source": [
    "# Задание 1\n",
    "Печатные газеты использовали свой формат дат для каждого выпуска. Для каждой газеты из списка напишите формат указанной даты для перевода в объект datetime:\n",
    "The Moscow Times - Wednesday, October 2, 2002\n",
    "The Guardian - Friday, 11.10.13\n",
    "Daily News - Thursday, 18 August 1977"
   ]
  },
  {
   "cell_type": "code",
   "execution_count": 2,
   "id": "3cd8ef55-78ff-4a88-9f9e-9c1508f6d9a4",
   "metadata": {},
   "outputs": [],
   "source": [
    "from datetime import datetime"
   ]
  },
  {
   "cell_type": "code",
   "execution_count": 1,
   "id": "5b7150b2-399a-4c90-9f7a-6b23cae42689",
   "metadata": {},
   "outputs": [],
   "source": [
    "Moscow_Times = 'Wednesday, October 2, 2002'\n",
    "The_Guardian = 'Friday, 11.10.13'\n",
    "Daily_News = 'Thursday, 18 August 1977'"
   ]
  },
  {
   "cell_type": "code",
   "execution_count": 30,
   "id": "7e7e939d-56d0-429a-ae2b-46af308b7c31",
   "metadata": {},
   "outputs": [],
   "source": [
    "def convert_to_date(a,b):\n",
    "    if b == 'Moscow_Times': a = datetime.strptime(a, '%A, %B %d, %Y')\n",
    "    if b == 'The_Guardian': a = datetime.strptime(a, '%A, %d.%m.%y')\n",
    "    if b == 'Daily_News': a = datetime.strptime(a, '%A, %d %B %Y')\n",
    "    return a"
   ]
  },
  {
   "cell_type": "code",
   "execution_count": 31,
   "id": "c99523b4-0b5d-4198-8e6a-3943077b264a",
   "metadata": {},
   "outputs": [
    {
     "data": {
      "text/plain": [
       "datetime.datetime(2002, 10, 2, 0, 0)"
      ]
     },
     "execution_count": 31,
     "metadata": {},
     "output_type": "execute_result"
    }
   ],
   "source": [
    "convert_to_date(Moscow_Times, 'Moscow_Times')"
   ]
  },
  {
   "cell_type": "code",
   "execution_count": 32,
   "id": "8ad1825c-a752-46a0-84e8-c52b3dc330ac",
   "metadata": {},
   "outputs": [
    {
     "data": {
      "text/plain": [
       "datetime.datetime(2013, 10, 11, 0, 0)"
      ]
     },
     "execution_count": 32,
     "metadata": {},
     "output_type": "execute_result"
    }
   ],
   "source": [
    "convert_to_date(The_Guardian, 'The_Guardian')"
   ]
  },
  {
   "cell_type": "code",
   "execution_count": 33,
   "id": "f1529c0a-998d-4a59-8e25-8f170e4a2bb8",
   "metadata": {},
   "outputs": [
    {
     "data": {
      "text/plain": [
       "datetime.datetime(1977, 8, 18, 0, 0)"
      ]
     },
     "execution_count": 33,
     "metadata": {},
     "output_type": "execute_result"
    }
   ],
   "source": [
    "convert_to_date(Daily_News, 'Daily_News')"
   ]
  },
  {
   "cell_type": "markdown",
   "id": "0c4ceee3-10ef-4e3a-bb06-e50e0c9306b5",
   "metadata": {},
   "source": [
    "# Задание 2\n",
    "Дан поток дат в формате YYYY-MM-DD, в которых встречаются некорректные значения:\n",
    "stream = [‘2018-04-02’, ‘2018-02-29’, ‘2018-19-02’]  Напишите функцию, которая проверяет эти даты на корректность. Т. е. для каждой даты возвращает True (дата корректна) или False (некорректная дата)."
   ]
  },
  {
   "cell_type": "code",
   "execution_count": 36,
   "id": "494c1e49-dcb8-4d06-a685-1de0114acc20",
   "metadata": {},
   "outputs": [],
   "source": [
    "from datetime import datetime\n",
    "stream = ['2018-04-02', '2018-02-29', '2018-19-02'] "
   ]
  },
  {
   "cell_type": "code",
   "execution_count": 42,
   "id": "724759a3-ed2f-4be2-9b80-a2a4712078ae",
   "metadata": {},
   "outputs": [],
   "source": [
    "def date_convert(a,b):\n",
    "    for date in stream:\n",
    "        try:\n",
    "            datetime.strptime(date, '%Y-%m-%d')\n",
    "            b.update({date: \"True\"})\n",
    "        except:\n",
    "            b.update({date: \"False\"})\n",
    "    return b"
   ]
  },
  {
   "cell_type": "code",
   "execution_count": 44,
   "id": "f0f752de-2ab4-4e2d-ad0c-561ae7461179",
   "metadata": {},
   "outputs": [
    {
     "name": "stdout",
     "output_type": "stream",
     "text": [
      "{'2018-04-02': 'True', '2018-02-29': 'False', '2018-19-02': 'False'}\n"
     ]
    }
   ],
   "source": [
    "dict_date = {}\n",
    "date_convert(stream, dict_date)\n",
    "print(dict_date)"
   ]
  },
  {
   "cell_type": "markdown",
   "id": "d0b49bee-ba30-46c6-bba9-9745c5602d4c",
   "metadata": {},
   "source": [
    "# Задание 3\n",
    "Напишите функцию date_range, которая возвращает список дат за период от start_date до end_date.   \n",
    "Даты должны вводиться в формате YYYY-MM-DD. \n",
    "В случае неверного формата или при start_date > end_date должен возвращаться пустой список."
   ]
  },
  {
   "cell_type": "code",
   "execution_count": 76,
   "id": "118a667f-1291-42c4-a2aa-a01183030af3",
   "metadata": {},
   "outputs": [],
   "source": [
    "from datetime import datetime\n",
    "from datetime import timedelta\n",
    "start_date = '2021-10-11'\n",
    "end_date = '2021-10-10'"
   ]
  },
  {
   "cell_type": "code",
   "execution_count": 78,
   "id": "a716a5c5-908e-40b5-b8d7-592bdb09920e",
   "metadata": {},
   "outputs": [],
   "source": [
    "def date_range(a,b,c):\n",
    "    try:\n",
    "        end = datetime.strptime(b,'%Y-%m-%d')\n",
    "        start = datetime.strptime(a,'%Y-%m-%d')\n",
    "    except:\n",
    "        print(\"Data format is not correct\")\n",
    "        c = []\n",
    "        return c \n",
    "    if end > start:\n",
    "        while start < end:\n",
    "            c.append(start.strftime('%Y-%m-%d'))\n",
    "            start = start + timedelta(days=1)\n",
    "        return c\n",
    "    else: \n",
    "        print(\"start date is greater end date\")\n",
    "        c = []\n",
    "        return c"
   ]
  },
  {
   "cell_type": "code",
   "execution_count": 80,
   "id": "a801ebe0-3f4b-4e2f-901b-3bd2529ad1bd",
   "metadata": {},
   "outputs": [
    {
     "name": "stdout",
     "output_type": "stream",
     "text": [
      "start date is greater end date\n"
     ]
    },
    {
     "data": {
      "text/plain": [
       "[]"
      ]
     },
     "execution_count": 80,
     "metadata": {},
     "output_type": "execute_result"
    }
   ],
   "source": [
    "date_list = []\n",
    "date_range(start_date, end_date, date_list)"
   ]
  },
  {
   "cell_type": "code",
   "execution_count": 81,
   "id": "aa7c28e5-9e7f-435a-8367-63d18aeb53d3",
   "metadata": {},
   "outputs": [
    {
     "data": {
      "text/plain": [
       "['2021-10-11',\n",
       " '2021-10-12',\n",
       " '2021-10-13',\n",
       " '2021-10-14',\n",
       " '2021-10-15',\n",
       " '2021-10-16',\n",
       " '2021-10-17',\n",
       " '2021-10-18',\n",
       " '2021-10-19',\n",
       " '2021-10-20',\n",
       " '2021-10-21',\n",
       " '2021-10-22',\n",
       " '2021-10-23',\n",
       " '2021-10-24',\n",
       " '2021-10-25',\n",
       " '2021-10-26',\n",
       " '2021-10-27',\n",
       " '2021-10-28',\n",
       " '2021-10-29',\n",
       " '2021-10-30',\n",
       " '2021-10-31',\n",
       " '2021-11-01',\n",
       " '2021-11-02',\n",
       " '2021-11-03',\n",
       " '2021-11-04',\n",
       " '2021-11-05',\n",
       " '2021-11-06',\n",
       " '2021-11-07',\n",
       " '2021-11-08',\n",
       " '2021-11-09']"
      ]
     },
     "execution_count": 81,
     "metadata": {},
     "output_type": "execute_result"
    }
   ],
   "source": [
    "date_list = []\n",
    "date_range('2021-10-11', '2021-11-10', date_list)"
   ]
  },
  {
   "cell_type": "code",
   "execution_count": null,
   "id": "762a28fb-329e-4d96-bca2-b3c1014ff6e4",
   "metadata": {},
   "outputs": [],
   "source": []
  }
 ],
 "metadata": {
  "kernelspec": {
   "display_name": "Python 3 (ipykernel)",
   "language": "python",
   "name": "python3"
  },
  "language_info": {
   "codemirror_mode": {
    "name": "ipython",
    "version": 3
   },
   "file_extension": ".py",
   "mimetype": "text/x-python",
   "name": "python",
   "nbconvert_exporter": "python",
   "pygments_lexer": "ipython3",
   "version": "3.9.7"
  }
 },
 "nbformat": 4,
 "nbformat_minor": 5
}
