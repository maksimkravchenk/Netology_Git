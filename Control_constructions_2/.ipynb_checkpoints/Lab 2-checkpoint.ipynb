{
 "cells": [
  {
   "cell_type": "markdown",
   "id": "dea486bd-6ecf-4dd4-8247-4d57b88df81f",
   "metadata": {},
   "source": [
    "# Задание 2"
   ]
  },
  {
   "cell_type": "markdown",
   "id": "6cd7a2f7-e870-4812-ac0e-769f232256fb",
   "metadata": {},
   "source": [
    "Дана переменная, в которой хранится список поисковых запросов пользователя (пример структуры данных приведен ниже). Вам необходимо \n",
    "написать программу, которая выведет на экран распределение количества слов в запросах в требуемом виде."
   ]
  },
  {
   "cell_type": "code",
   "execution_count": 4,
   "id": "1598a92d-cdaa-4c7b-ab2f-3e09be101dea",
   "metadata": {},
   "outputs": [],
   "source": [
    "queries = [\n",
    "    'смотреть сериалы онлайн',\n",
    "    'новости спорта',\n",
    "    'афиша кино',\n",
    "    'курс доллара',\n",
    "    'сериалы этим летом',\n",
    "    'курс по питону',\n",
    "    'сериалы про спорт',\n",
    "]"
   ]
  },
  {
   "cell_type": "code",
   "execution_count": 53,
   "id": "eaeec276-bb32-4d98-a472-0d04cc8f4318",
   "metadata": {},
   "outputs": [
    {
     "name": "stdout",
     "output_type": "stream",
     "text": [
      "Поисковых запросов, содержащих 3 слов(а):  57.14%\n",
      "Поисковых запросов, содержащих 2 слов(а):  42.86%\n"
     ]
    }
   ],
   "source": [
    "count = {}\n",
    "i = 0\n",
    "\n",
    "for txt in queries:\n",
    "    i +=1\n",
    "    num = str(len(txt.split(\" \")))\n",
    "    if num in count: \n",
    "        count[num] +=1\n",
    "    else:\n",
    "        count.setdefault(num, 1)\n",
    "\n",
    "for j in count:\n",
    "    res = 100 * (count[j]/i)\n",
    "    res = round(res,2)\n",
    "    print(f\"Поисковых запросов, содержащих {j} слов(а):  {res}%\")\n",
    "    "
   ]
  },
  {
   "cell_type": "code",
   "execution_count": null,
   "id": "fc36920c-a259-4b56-97e2-06cd186bd570",
   "metadata": {},
   "outputs": [],
   "source": []
  }
 ],
 "metadata": {
  "kernelspec": {
   "display_name": "Python 3 (ipykernel)",
   "language": "python",
   "name": "python3"
  },
  "language_info": {
   "codemirror_mode": {
    "name": "ipython",
    "version": 3
   },
   "file_extension": ".py",
   "mimetype": "text/x-python",
   "name": "python",
   "nbconvert_exporter": "python",
   "pygments_lexer": "ipython3",
   "version": "3.9.7"
  }
 },
 "nbformat": 4,
 "nbformat_minor": 5
}
