{
 "cells": [
  {
   "cell_type": "markdown",
   "id": "475f4648-6b81-41d9-a254-799498835db1",
   "metadata": {},
   "source": [
    "# Задание 4"
   ]
  },
  {
   "cell_type": "markdown",
   "id": "11e3de2a-894c-4d02-be50-be3c95997eb1",
   "metadata": {},
   "source": [
    "Дана переменная, в которой хранится статистика рекламных каналов по объемам продаж (пример структуры данных приведен ниже). \n",
    "Напишите программу, которая возвращает название канала с максимальным объемом продаж."
   ]
  },
  {
   "cell_type": "code",
   "execution_count": 3,
   "id": "4d76502b-b537-4381-961e-d1b4d9270050",
   "metadata": {},
   "outputs": [],
   "source": [
    "stats = {'facebook': 55, 'yandex': 115, 'vk': 120, 'google': 99, 'email': 42, 'ok': 98}"
   ]
  },
  {
   "cell_type": "code",
   "execution_count": 7,
   "id": "ba007535-f7d2-4d63-9528-c5df5286dc59",
   "metadata": {},
   "outputs": [
    {
     "name": "stdout",
     "output_type": "stream",
     "text": [
      "Максимальный объем продаж на рекламном канале: vk\n"
     ]
    }
   ],
   "source": [
    "max = 0\n",
    "res = \"\"\n",
    "for i in stats:\n",
    "    if stats[i] > max:\n",
    "        max = stats[i]\n",
    "        res = i \n",
    "#        res.update({i:stats[i]})\n",
    "    else: pass\n",
    "print(\"Максимальный объем продаж на рекламном канале:\", res)"
   ]
  }
 ],
 "metadata": {
  "kernelspec": {
   "display_name": "Python 3 (ipykernel)",
   "language": "python",
   "name": "python3"
  },
  "language_info": {
   "codemirror_mode": {
    "name": "ipython",
    "version": 3
   },
   "file_extension": ".py",
   "mimetype": "text/x-python",
   "name": "python",
   "nbconvert_exporter": "python",
   "pygments_lexer": "ipython3",
   "version": "3.9.7"
  }
 },
 "nbformat": 4,
 "nbformat_minor": 5
}
