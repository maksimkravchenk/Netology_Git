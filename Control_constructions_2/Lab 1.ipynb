{
 "cells": [
  {
   "cell_type": "markdown",
   "id": "db84c01c-1269-4377-8f82-946b5cbef921",
   "metadata": {},
   "source": [
    "# Задание 1"
   ]
  },
  {
   "cell_type": "markdown",
   "id": "02c2711f-2303-4e07-8737-e8a4ed458426",
   "metadata": {},
   "source": [
    "Дана переменная, в которой хранится словарь, содержащий гео-метки для каждого пользователя \n",
    "(пример структуры данных приведен ниже). Вам необходимо написать программу, которая выведет на экран множество уникальных\n",
    "гео-меток всех пользователей."
   ]
  },
  {
   "cell_type": "code",
   "execution_count": 30,
   "id": "6851eee1-396e-4363-b037-bbcacd55179a",
   "metadata": {},
   "outputs": [],
   "source": [
    "def unic_geo(a):\n",
    "    unico_geo = set({})\n",
    "    for i, j in enumerate(ids):\n",
    "        a = set(ids[j])\n",
    "        unico_geo.update(a)      \n",
    "    return print(unico_geo)"
   ]
  },
  {
   "cell_type": "code",
   "execution_count": 31,
   "id": "230e0e0e-4741-41a4-bdc1-15e35dfd3224",
   "metadata": {},
   "outputs": [
    {
     "name": "stdout",
     "output_type": "stream",
     "text": [
      "{98, 35, 213, 54, 119, 15}\n"
     ]
    }
   ],
   "source": [
    "ids = {'user1': [213, 213, 213, 15, 213], \n",
    "       'user2': [54, 54, 119, 119, 119], \n",
    "       'user3': [213, 98, 98, 35]}\n",
    "\n",
    "unic_geo(ids)"
   ]
  },
  {
   "cell_type": "code",
   "execution_count": 32,
   "id": "58f1050a-70d7-4173-8e46-e16d118e0416",
   "metadata": {},
   "outputs": [],
   "source": [
    "ids = {'user1': [213, 213, 213, 15, 213], \n",
    "       'user2': [54, 54, 119, 119, 119], \n",
    "       'user3': [213, 98, 98, 35],\n",
    "       'user4': [213, 98, 98, 35, 11]}"
   ]
  },
  {
   "cell_type": "code",
   "execution_count": 33,
   "id": "8ac24e1b-1417-46ac-bc20-3e54c063f507",
   "metadata": {},
   "outputs": [
    {
     "name": "stdout",
     "output_type": "stream",
     "text": [
      "{98, 35, 11, 15, 213, 54, 119}\n"
     ]
    }
   ],
   "source": [
    "unic_geo(ids)"
   ]
  }
 ],
 "metadata": {
  "kernelspec": {
   "display_name": "Python 3 (ipykernel)",
   "language": "python",
   "name": "python3"
  },
  "language_info": {
   "codemirror_mode": {
    "name": "ipython",
    "version": 3
   },
   "file_extension": ".py",
   "mimetype": "text/x-python",
   "name": "python",
   "nbconvert_exporter": "python",
   "pygments_lexer": "ipython3",
   "version": "3.9.7"
  }
 },
 "nbformat": 4,
 "nbformat_minor": 5
}
