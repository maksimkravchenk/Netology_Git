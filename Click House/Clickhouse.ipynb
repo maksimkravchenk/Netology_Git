{
 "cells": [
  {
   "cell_type": "markdown",
   "id": "2f46c19a-e877-4983-842d-ce66d3bb1abb",
   "metadata": {},
   "source": [
    "# Задание\n",
    "Вопросы по заданию\n",
    "\n",
    "Загрузка данных в КХ\n",
    "\n",
    "    Создайте базу homework\n",
    "\n",
    "1\n",
    "CREATE DATABASE homework\n",
    "\n",
    "    Создаём таблицу metrika\n",
    "\n",
    "12345678910\n",
    "CREATE TABLE homework.metrika\n",
    "(\n",
    "    `EventDate` Date,\n",
    "    `CounterID` UInt32,\n",
    "    `UserID` UInt64,\n",
    "    `RegionID` UInt32\n",
    ")\n",
    "ENGINE = MergeTree()\n",
    "PARTITION BY toYYYYMM(EventDate)\n",
    "ORDER BY (CounterID, EventDate, intHash32(UserID))\n",
    "\n",
    "    Заливаем данные в таблицу\n",
    "\n",
    "1\n",
    "cat metrika_sample.tsv | clickhouse-client --database homework --query \"INSERT INTO metrika FORMAT TSV\"\n",
    "\n",
    "    Посчитайте какой пользователь UserID сделал больше всего просмотров страниц?\n",
    "\n"
   ]
  },
  {
   "cell_type": "markdown",
   "id": "424e3e51-4f05-4fa7-a12c-0a0d6cf54882",
   "metadata": {},
   "source": [
    "fa07d5ef659a :) select UserID, count(*) as cnt from metrika group by UserID order by cnt desc limit 2\n",
    "\n",
    "SELECT\n",
    "    UserID,\n",
    "    count(*) AS cnt\n",
    "FROM metrika\n",
    "GROUP BY UserID\n",
    "ORDER BY cnt DESC\n",
    "LIMIT 2\n",
    "\n",
    "Query id: bd916d28-0b43-414f-945a-3f794f5d8919\n",
    "\n",
    "âââââââââââââââUserIDââ¬ââcntââ\n",
    "â 1313448155240738815 â 4439 â\n",
    "â  274300123473980065 â  962 â\n",
    "âââââââââââââââââââââââ´âââââââ\n",
    "\n",
    "2 rows in set. Elapsed: 0.005 sec. Processed 100.00 thousand rows, 800.00 KB (19.43 million rows/s., 155.43 MB/s.)\n"
   ]
  },
  {
   "cell_type": "code",
   "execution_count": null,
   "id": "20603e26-7450-49b9-a3cd-1dd894871da5",
   "metadata": {},
   "outputs": [],
   "source": []
  },
  {
   "cell_type": "code",
   "execution_count": null,
   "id": "2f70fac9-3937-4f88-bbe1-3a71edcafe29",
   "metadata": {},
   "outputs": [],
   "source": []
  }
 ],
 "metadata": {
  "kernelspec": {
   "display_name": "Python 3 (ipykernel)",
   "language": "python",
   "name": "python3"
  },
  "language_info": {
   "codemirror_mode": {
    "name": "ipython",
    "version": 3
   },
   "file_extension": ".py",
   "mimetype": "text/x-python",
   "name": "python",
   "nbconvert_exporter": "python",
   "pygments_lexer": "ipython3",
   "version": "3.9.7"
  }
 },
 "nbformat": 4,
 "nbformat_minor": 5
}
