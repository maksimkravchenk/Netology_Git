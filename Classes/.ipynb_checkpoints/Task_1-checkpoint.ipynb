{
 "cells": [
  {
   "cell_type": "markdown",
   "id": "b9a2ce7f-5611-43fb-b82f-04e91afb081a",
   "metadata": {},
   "source": [
    "# Задание 1"
   ]
  },
  {
   "cell_type": "markdown",
   "id": "27d2a3f2-03e6-4f75-9e06-ab357b79f4eb",
   "metadata": {},
   "source": [
    "Напишите функцию, которая возвращает название валюты (поле ‘Name’) с максимальным значением курса с помощью сервиса www.cbr-xml-daily.ru...ly_json.js"
   ]
  },
  {
   "cell_type": "code",
   "execution_count": 86,
   "id": "d8f448ca-b9b7-4022-9eb0-33584267ac17",
   "metadata": {},
   "outputs": [
    {
     "name": "stdout",
     "output_type": "stream",
     "text": [
      "СДР (специальные права заимствования)\n"
     ]
    }
   ],
   "source": [
    "import requests\n",
    "\n",
    "class Rate():\n",
    "    def __init__(self, format_='value', diff = 'False'):\n",
    "        self.format = format_\n",
    "        if self.format == 'value': self.diff = diff\n",
    "        else: self.diff = 'False'\n",
    "    \n",
    "    def exchange_rates(self):\n",
    "        \"\"\"\n",
    "        Возвращает ответ сервиса с информацией о валютах в виде:\n",
    "        \n",
    "        {\n",
    "            'AMD': {\n",
    "                'CharCode': 'AMD',\n",
    "                'ID': 'R01060',\n",
    "                'Name': 'Армянских драмов',\n",
    "                'Nominal': 100,\n",
    "                'NumCode': '051',\n",
    "                'Previous': 14.103,\n",
    "                'Value': 14.0879\n",
    "                },\n",
    "            ...\n",
    "        }\n",
    "        \"\"\"\n",
    "        self.r = requests.get('https://www.cbr-xml-daily.ru/daily_json.js')\n",
    "        return self.r.json()['Valute']\n",
    "    \n",
    "    def make_format(self, currency):\n",
    "        \"\"\"\n",
    "        Возвращает информацию о валюте currency в двух вариантах:\n",
    "        - полная информация о валюте при self.format = 'full':\n",
    "        Rate('full').make_format('EUR')\n",
    "        {\n",
    "            'CharCode': 'EUR',\n",
    "            'ID': 'R01239',\n",
    "            'Name': 'Евро',\n",
    "            'Nominal': 1,\n",
    "            'NumCode': '978',\n",
    "            'Previous': 79.6765,\n",
    "            'Value': 79.4966\n",
    "        }\n",
    "        \n",
    "        Rate('value').make_format('EUR')\n",
    "        79.4966\n",
    "        \"\"\"\n",
    "        response = self.exchange_rates()\n",
    "        \n",
    "        if currency in response:\n",
    "            if self.format == 'full':\n",
    "                return response[currency]\n",
    "            \n",
    "            if self.format == 'value' and self.diff == 'True':\n",
    "                return response[currency]['Value'] - response[currency]['Previous']\n",
    "            \n",
    "            if self.format == 'value' and self.diff == 'False':\n",
    "                return response[currency]['Value']\n",
    "        \n",
    "        return 'Error'\n",
    "    \n",
    "    def eur(self):\n",
    "        \"\"\"Возвращает курс евро на сегодня в формате self.format\"\"\"\n",
    "        return self.make_format('EUR')\n",
    "    \n",
    "    def usd(self):\n",
    "        \"\"\"Возвращает курс доллара на сегодня в формате self.format\"\"\"\n",
    "        return self.make_format('USD')\n",
    "    \n",
    "    def brl(self):\n",
    "        \"\"\"Возвращает курс бразильского реала на сегодня в формате self.format\"\"\"\n",
    "        return self.make_format('BRL')\n",
    "    \n",
    "    def max_current(self):\n",
    "        \"\"\"Returns the name of the currency with the maximum value\"\"\"\n",
    "        response= self.exchange_rates()\n",
    "        dict_curr_value = {}\n",
    "        for dict_ in response.values():\n",
    "            dict_curr_value[dict_.get('Name')] = dict_.get('Value')\n",
    "        max_key = max(dict_curr_value, key=lambda k: dict_curr_value[k])\n",
    "        return max_key\n",
    "\n",
    "    \n",
    "my_rate = Rate()\n",
    "my_resp = my_rate.max_current()\n",
    "print(my_resp)"
   ]
  },
  {
   "cell_type": "markdown",
   "id": "bae37bbe-8cae-4836-b7b7-2a27c78641bc",
   "metadata": {},
   "source": [
    "# Задание 2"
   ]
  },
  {
   "cell_type": "markdown",
   "id": "baa8e0d6-7dc4-4efe-a9e4-043a6d185a57",
   "metadata": {},
   "source": [
    "Добавьте в класс Rate параметр diff (со значениями True или False), который в случае значения True в методах курсов валют (eur, usd итд)\n",
    "будет возвращать не курс валюты, а изменение по сравнению в прошлым значением. Считайте, self.diff будет принимать значение True только\n",
    "при возврате значения курса. При отображении всей информации о валюте он не используется."
   ]
  },
  {
   "cell_type": "code",
   "execution_count": 90,
   "id": "ff57de43-c316-40d2-a2d1-c16e6bdff89c",
   "metadata": {},
   "outputs": [
    {
     "name": "stdout",
     "output_type": "stream",
     "text": [
      "-0.030500000000003524\n",
      "{'ID': 'R01235', 'NumCode': '840', 'CharCode': 'USD', 'Nominal': 1, 'Name': 'Доллар США', 'Value': 73.7901, 'Previous': 73.8206}\n"
     ]
    }
   ],
   "source": [
    "print(Rate('value', 'True').usd())\n",
    "print(Rate('full', 'True').usd())"
   ]
  },
  {
   "cell_type": "markdown",
   "id": "114d82dd-a2cf-4782-9e9f-63bc57b951f3",
   "metadata": {},
   "source": [
    "# Задание 3"
   ]
  },
  {
   "cell_type": "markdown",
   "id": "84022552-8cf6-4dce-959b-de03ec2c2c8c",
   "metadata": {},
   "source": [
    "Напишите класс Designer, который учитывает количество международных премий.\n",
    "Подсказки в коде занятия в разделе “Домашнее задание задача 3”."
   ]
  },
  {
   "cell_type": "markdown",
   "id": "944cc10b-54cb-4771-9773-fbc77abe7483",
   "metadata": {},
   "source": [
    "Комментарий по классу Designer такой:\n",
    "Напишите класс Designer, который учитывает количество международных премий для дизайнеров (из презентации: “Повышение на 1 грейд за каждые 7 баллов. Получение международной премии – это +2 балла”). Считайте, что при выходе на работу сотрудник уже имеет две премии и их количество не меняется со стажем (конечно если хотите это можно вручную менять).\n",
    "\n",
    "Класс Designer пишется по аналогии с классом Developer из материалов занятия. Комментарий про его условия Вика написала выше: “Повышение на 1 грейд за каждые 7 баллов. Получение международной премии – это +2 балла”"
   ]
  },
  {
   "cell_type": "code",
   "execution_count": 91,
   "id": "060c477f-23ef-4125-8c5b-fe6cc65a3342",
   "metadata": {},
   "outputs": [],
   "source": [
    "class Employee:\n",
    "    def __init__(self, name, seniority):\n",
    "        self.name = name\n",
    "        self.seniority = seniority\n",
    "        \n",
    "        self.grade = 1\n",
    "    \n",
    "    def grade_up(self):\n",
    "        \"\"\"Повышает уровень сотрудника\"\"\"\n",
    "        self.grade += 1\n",
    "    \n",
    "    def publish_grade(self):\n",
    "        \"\"\"Публикация результатов аккредитации сотрудников\"\"\"\n",
    "        print(self.name, self.grade)\n",
    "    \n",
    "    def check_if_it_is_time_for_upgrade(self):\n",
    "        pass"
   ]
  },
  {
   "cell_type": "code",
   "execution_count": 131,
   "id": "41e22d47-004e-40bf-bb9e-228463292b18",
   "metadata": {},
   "outputs": [],
   "source": [
    "class Designer(Employee):\n",
    "    def __init__(self, name, seniority, world_awards):\n",
    "        super().__init__(name, seniority)\n",
    "        self.seniority = self.seniority + 2*world_awards\n",
    "        for i in range(int(self.seniority/7)):\n",
    "            self.grade_up()\n",
    "            \n",
    "    def check_if_it_is_time_for_upgrade(self):\n",
    "        # для каждой аккредитации увеличиваем счетчик на 1\n",
    "        # пока считаем, что все разработчики проходят аккредитацию\n",
    "        print(self.name, \" points: \", self.seniority)\n",
    "        self.seniority += 1\n",
    "        \n",
    "        # условие повышения сотрудника из презентации\n",
    "        if self.seniority % 7 == 0:\n",
    "            self.grade_up()\n",
    "        \n",
    "        # публикация результатов\n",
    "        return self.publish_grade()"
   ]
  },
  {
   "cell_type": "code",
   "execution_count": 134,
   "id": "b6820cc9-b165-4d44-9753-73766b4a3c7d",
   "metadata": {},
   "outputs": [],
   "source": [
    "my = Designer('Александр', 0, 2)\n",
    "wy = Designer('Фёдор', 0, 7)"
   ]
  },
  {
   "cell_type": "code",
   "execution_count": 135,
   "id": "45756e99-367a-410f-a77f-d7e872f564b8",
   "metadata": {},
   "outputs": [
    {
     "name": "stdout",
     "output_type": "stream",
     "text": [
      "Александр  points:  4\n",
      "Александр 1\n",
      "Фёдор  points:  14\n",
      "Фёдор 3\n",
      "Александр  points:  5\n",
      "Александр 1\n",
      "Фёдор  points:  15\n",
      "Фёдор 3\n",
      "Александр  points:  6\n",
      "Александр 2\n",
      "Фёдор  points:  16\n",
      "Фёдор 3\n",
      "Александр  points:  7\n",
      "Александр 2\n",
      "Фёдор  points:  17\n",
      "Фёдор 3\n",
      "Александр  points:  8\n",
      "Александр 2\n",
      "Фёдор  points:  18\n",
      "Фёдор 3\n",
      "Александр  points:  9\n",
      "Александр 2\n",
      "Фёдор  points:  19\n",
      "Фёдор 3\n",
      "Александр  points:  10\n",
      "Александр 2\n",
      "Фёдор  points:  20\n",
      "Фёдор 4\n",
      "Александр  points:  11\n",
      "Александр 2\n",
      "Фёдор  points:  21\n",
      "Фёдор 4\n",
      "Александр  points:  12\n",
      "Александр 2\n",
      "Фёдор  points:  22\n",
      "Фёдор 4\n",
      "Александр  points:  13\n",
      "Александр 3\n",
      "Фёдор  points:  23\n",
      "Фёдор 4\n",
      "Александр  points:  14\n",
      "Александр 3\n",
      "Фёдор  points:  24\n",
      "Фёдор 4\n",
      "Александр  points:  15\n",
      "Александр 3\n",
      "Фёдор  points:  25\n",
      "Фёдор 4\n",
      "Александр  points:  16\n",
      "Александр 3\n",
      "Фёдор  points:  26\n",
      "Фёдор 4\n",
      "Александр  points:  17\n",
      "Александр 3\n",
      "Фёдор  points:  27\n",
      "Фёдор 5\n",
      "Александр  points:  18\n",
      "Александр 3\n",
      "Фёдор  points:  28\n",
      "Фёдор 5\n",
      "Александр  points:  19\n",
      "Александр 3\n",
      "Фёдор  points:  29\n",
      "Фёдор 5\n",
      "Александр  points:  20\n",
      "Александр 4\n",
      "Фёдор  points:  30\n",
      "Фёдор 5\n",
      "Александр  points:  21\n",
      "Александр 4\n",
      "Фёдор  points:  31\n",
      "Фёдор 5\n",
      "Александр  points:  22\n",
      "Александр 4\n",
      "Фёдор  points:  32\n",
      "Фёдор 5\n",
      "Александр  points:  23\n",
      "Александр 4\n",
      "Фёдор  points:  33\n",
      "Фёдор 5\n"
     ]
    }
   ],
   "source": [
    "for i in range(20):\n",
    "    my.check_if_it_is_time_for_upgrade()\n",
    "    wy.check_if_it_is_time_for_upgrade()"
   ]
  }
 ],
 "metadata": {
  "kernelspec": {
   "display_name": "Python 3 (ipykernel)",
   "language": "python",
   "name": "python3"
  },
  "language_info": {
   "codemirror_mode": {
    "name": "ipython",
    "version": 3
   },
   "file_extension": ".py",
   "mimetype": "text/x-python",
   "name": "python",
   "nbconvert_exporter": "python",
   "pygments_lexer": "ipython3",
   "version": "3.9.7"
  }
 },
 "nbformat": 4,
 "nbformat_minor": 5
}
