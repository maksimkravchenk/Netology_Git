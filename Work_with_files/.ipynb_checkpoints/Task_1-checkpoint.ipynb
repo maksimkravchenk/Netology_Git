{
 "cells": [
  {
   "cell_type": "markdown",
   "id": "360b1868-4e72-4917-94f3-2d7ec4ceb627",
   "metadata": {},
   "source": [
    "# Задание 1"
   ]
  },
  {
   "cell_type": "markdown",
   "id": "90db27ca-4ce3-48f6-b62e-30277d854ab5",
   "metadata": {},
   "source": [
    "Переведите содержимое файла purchase_log.txt в словарь purchases вида:\n",
    "{‘1840e0b9d4’: ‘Продукты’, …}"
   ]
  },
  {
   "cell_type": "code",
   "execution_count": 1,
   "id": "46203632-c795-49c4-825a-d7bbb50f0eef",
   "metadata": {},
   "outputs": [],
   "source": [
    "import json\n",
    "\n",
    "def read_purchase(a, b='true'):\n",
    "    a.clear()\n",
    "    x = []\n",
    "    with open('purchase_log.txt', 'r', encoding='utf-8') as f:\n",
    "        for line in f:\n",
    "            line = line.strip() \n",
    "            x = list((json.loads(line).values()))\n",
    "            if b == 'true': a.update({x[0]:x[1]})\n",
    "            else: b = 'true'\n",
    "        f.close()\n",
    "    return a"
   ]
  },
  {
   "cell_type": "code",
   "execution_count": 2,
   "id": "adfd871c-f622-45b2-b6d9-1e43901bbf10",
   "metadata": {},
   "outputs": [],
   "source": [
    "purchase = {}\n",
    "read_purchase(purchase, b='0')\n",
    "pass"
   ]
  },
  {
   "cell_type": "markdown",
   "id": "b0d4b489-3e10-400f-be10-5d56c20a3a84",
   "metadata": {},
   "source": [
    "Для каждого user_id в файле visit_log.csv определите третий столбец с категорией покупки (если покупка была, сам файл visit_log.csv изменять не надо). Запишите в файл funnel.csv визиты из файла visit_log.csv, в которых были покупки с указанием категории.\n",
    "Учтите условия на данные:\n",
    "содержимое purchase_log.txt помещается в оперативную память компьютера\n",
    "содержимое visit_log.csv - нет; используйте только построчную обработку этого файла"
   ]
  },
  {
   "cell_type": "code",
   "execution_count": 14,
   "id": "6b2cc4c6-3d5d-441f-a8a5-ef4569cfdf07",
   "metadata": {},
   "outputs": [],
   "source": [
    "purchase_2 = {}\n",
    "read_purchase(purchase_2)\n",
    "\n",
    "#import codecs\n",
    "\n",
    "with open('visit_log.csv', 'r', encoding='utf-8') as f:\n",
    "    with open('funnel.csv', 'w', encoding='utf-8') as f2write:\n",
    "        i = 0\n",
    "        for line in f:           \n",
    "            line = line.strip().split(',')\n",
    "            if line[0] in purchase_2: \n",
    "                line.append(purchase_2.get(line[0]))\n",
    "                f2write.write(str(line[0]) + \",\" + str(line[1]) + \",\" + str(line[2] + \"\\n\"))\n",
    "        f2write.close()\n",
    "    f.close() "
   ]
  },
  {
   "cell_type": "code",
   "execution_count": null,
   "id": "c469f7df-debe-472e-aa49-ab8faaf8fc43",
   "metadata": {},
   "outputs": [],
   "source": []
  }
 ],
 "metadata": {
  "kernelspec": {
   "display_name": "Python 3 (ipykernel)",
   "language": "python",
   "name": "python3"
  },
  "language_info": {
   "codemirror_mode": {
    "name": "ipython",
    "version": 3
   },
   "file_extension": ".py",
   "mimetype": "text/x-python",
   "name": "python",
   "nbconvert_exporter": "python",
   "pygments_lexer": "ipython3",
   "version": "3.9.7"
  }
 },
 "nbformat": 4,
 "nbformat_minor": 5
}
