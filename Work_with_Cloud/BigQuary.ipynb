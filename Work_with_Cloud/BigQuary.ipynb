{
 "cells": [
  {
   "cell_type": "code",
   "execution_count": 1,
   "id": "6ac323d9-d35a-4126-b36a-d8835bd38349",
   "metadata": {},
   "outputs": [],
   "source": [
    "%load_ext google.cloud.bigquery"
   ]
  },
  {
   "cell_type": "code",
   "execution_count": 3,
   "id": "6ffcb965-4a3f-4d38-9ab3-1448ced0345b",
   "metadata": {},
   "outputs": [
    {
     "name": "stderr",
     "output_type": "stream",
     "text": [
      "C:\\Users\\emaxkra\\AppData\\Roaming\\Python\\Python39\\site-packages\\google\\cloud\\bigquery\\job\\query.py:1647: UserWarning: A progress bar was requested, but there was an error loading the tqdm library. Please install tqdm to use the progress bar functionality.\n",
      "  query_result = wait_for_query(self, progress_bar_type, max_results=max_results)\n",
      "C:\\Users\\emaxkra\\AppData\\Roaming\\Python\\Python39\\site-packages\\google\\cloud\\bigquery\\table.py:1980: UserWarning: A progress bar was requested, but there was an error loading the tqdm library. Please install tqdm to use the progress bar functionality.\n",
      "  record_batch = self.to_arrow(\n"
     ]
    },
    {
     "data": {
      "text/html": [
       "<div>\n",
       "<style scoped>\n",
       "    .dataframe tbody tr th:only-of-type {\n",
       "        vertical-align: middle;\n",
       "    }\n",
       "\n",
       "    .dataframe tbody tr th {\n",
       "        vertical-align: top;\n",
       "    }\n",
       "\n",
       "    .dataframe thead th {\n",
       "        text-align: right;\n",
       "    }\n",
       "</style>\n",
       "<table border=\"1\" class=\"dataframe\">\n",
       "  <thead>\n",
       "    <tr style=\"text-align: right;\">\n",
       "      <th></th>\n",
       "      <th>pagePath</th>\n",
       "      <th>cnt</th>\n",
       "    </tr>\n",
       "  </thead>\n",
       "  <tbody>\n",
       "    <tr>\n",
       "      <th>0</th>\n",
       "      <td>/home</td>\n",
       "      <td>589386</td>\n",
       "    </tr>\n",
       "    <tr>\n",
       "      <th>1</th>\n",
       "      <td>/basket.html</td>\n",
       "      <td>112553</td>\n",
       "    </tr>\n",
       "    <tr>\n",
       "      <th>2</th>\n",
       "      <td>/google+redesign/apparel/men++s/men++s+t+shirts</td>\n",
       "      <td>79877</td>\n",
       "    </tr>\n",
       "    <tr>\n",
       "      <th>3</th>\n",
       "      <td>/store.html</td>\n",
       "      <td>74021</td>\n",
       "    </tr>\n",
       "    <tr>\n",
       "      <th>4</th>\n",
       "      <td>/google+redesign/shop+by+brand/youtube</td>\n",
       "      <td>55222</td>\n",
       "    </tr>\n",
       "    <tr>\n",
       "      <th>5</th>\n",
       "      <td>/google+redesign/office</td>\n",
       "      <td>49435</td>\n",
       "    </tr>\n",
       "    <tr>\n",
       "      <th>6</th>\n",
       "      <td>/google+redesign/drinkware</td>\n",
       "      <td>48876</td>\n",
       "    </tr>\n",
       "    <tr>\n",
       "      <th>7</th>\n",
       "      <td>/signin.html</td>\n",
       "      <td>47890</td>\n",
       "    </tr>\n",
       "    <tr>\n",
       "      <th>8</th>\n",
       "      <td>/google+redesign/bags</td>\n",
       "      <td>47308</td>\n",
       "    </tr>\n",
       "    <tr>\n",
       "      <th>9</th>\n",
       "      <td>/google+redesign/electronics</td>\n",
       "      <td>46931</td>\n",
       "    </tr>\n",
       "  </tbody>\n",
       "</table>\n",
       "</div>"
      ],
      "text/plain": [
       "                                          pagePath     cnt\n",
       "0                                            /home  589386\n",
       "1                                     /basket.html  112553\n",
       "2  /google+redesign/apparel/men++s/men++s+t+shirts   79877\n",
       "3                                      /store.html   74021\n",
       "4           /google+redesign/shop+by+brand/youtube   55222\n",
       "5                          /google+redesign/office   49435\n",
       "6                       /google+redesign/drinkware   48876\n",
       "7                                     /signin.html   47890\n",
       "8                            /google+redesign/bags   47308\n",
       "9                     /google+redesign/electronics   46931"
      ]
     },
     "execution_count": 3,
     "metadata": {},
     "output_type": "execute_result"
    }
   ],
   "source": [
    "%%bigquery\n",
    "SELECT h.page.pagePath, count(h.page.pagePath) as cnt\n",
    "FROM `bigquery-public-data.google_analytics_sample.ga_sessions_2016*`, unnest(hits) as h \n",
    "group by h.page.pagePath order by cnt desc limit 10;"
   ]
  },
  {
   "cell_type": "code",
   "execution_count": 5,
   "id": "f9d39dd9-9af2-4915-97ca-d77d2630d397",
   "metadata": {},
   "outputs": [
    {
     "name": "stdout",
     "output_type": "stream",
     "text": [
      "Executing query with job ID: c64b1963-54b3-4ec3-8915-dad5d0fe3380\n",
      "Query executing: 1.12s"
     ]
    },
    {
     "name": "stderr",
     "output_type": "stream",
     "text": [
      "\n",
      "ERROR:\n",
      " 400 Syntax error: Expected end of input but got identifier \"bigquery\" at [1:13]\n",
      "\n",
      "Location: US\n",
      "Job ID: c64b1963-54b3-4ec3-8915-dad5d0fe3380\n",
      "\n"
     ]
    }
   ],
   "source": [
    "%%bigquery\n",
    "show schema bigquery-public-data.google_analytics_sample.ga_sessions;"
   ]
  },
  {
   "cell_type": "code",
   "execution_count": null,
   "id": "177622ff-ca8b-4cb5-a30e-001b33c3994c",
   "metadata": {},
   "outputs": [],
   "source": []
  }
 ],
 "metadata": {
  "kernelspec": {
   "display_name": "Python 3 (ipykernel)",
   "language": "python",
   "name": "python3"
  },
  "language_info": {
   "codemirror_mode": {
    "name": "ipython",
    "version": 3
   },
   "file_extension": ".py",
   "mimetype": "text/x-python",
   "name": "python",
   "nbconvert_exporter": "python",
   "pygments_lexer": "ipython3",
   "version": "3.9.7"
  }
 },
 "nbformat": 4,
 "nbformat_minor": 5
}
