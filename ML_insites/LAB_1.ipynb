{
 "cells": [
  {
   "cell_type": "markdown",
   "id": "c9177632-5ca8-4c5b-b7ea-3502a58743ee",
   "metadata": {},
   "source": [
    "# Задание"
   ]
  },
  {
   "cell_type": "markdown",
   "id": "b2c4eba5-3c4b-49ba-96f6-866c5b49833f",
   "metadata": {},
   "source": [
    "Обучите и задеплойте модель на основании датасета bigquery-public-data.ml_datasets.census_adult_income (более сложный вариант, требующий преподготовки данных) или bigquery-public-data.ml_datasets.iris. Приведите пример блокнота и скриншоты задеплоенной модели и тестовых предиктов"
   ]
  },
  {
   "cell_type": "code",
   "execution_count": 3,
   "id": "21ef72a9-6b77-4f82-a98b-cae7692caaef",
   "metadata": {},
   "outputs": [],
   "source": [
    "# pip install xgboost\n"
   ]
  },
  {
   "cell_type": "code",
   "execution_count": 4,
   "id": "844febfa-c0a2-4e3f-b9b5-7e11c63cbd30",
   "metadata": {},
   "outputs": [],
   "source": [
    "from google.cloud import storage\n",
    "from google.cloud import bigquery\n",
    "from google.oauth2 import service_account"
   ]
  },
  {
   "cell_type": "code",
   "execution_count": 5,
   "id": "54253373-7a5d-4acb-82ca-f583b5c7be3a",
   "metadata": {},
   "outputs": [],
   "source": [
    "import numpy as np\n",
    "import xgboost as xgb\n",
    "from sklearn.model_selection import train_test_split\n",
    "from sklearn.metrics import precision_score\n",
    "from sklearn.preprocessing import LabelEncoder\n"
   ]
  },
  {
   "cell_type": "code",
   "execution_count": 6,
   "id": "f27a7ad7-68df-4235-aa03-888405a42ea0",
   "metadata": {},
   "outputs": [
    {
     "name": "stdout",
     "output_type": "stream",
     "text": [
      "C:\\Users\\peaceful-parity-336514-f361713c806a.json\n"
     ]
    }
   ],
   "source": [
    "key_path = \"C:\\\\Users\\\\peaceful-parity-336514-f361713c806a.json\"\n",
    "print(key_path)"
   ]
  },
  {
   "cell_type": "code",
   "execution_count": 7,
   "id": "47e5e736-fe4d-454d-92c7-3fdee2d5faf6",
   "metadata": {},
   "outputs": [],
   "source": [
    "credentials = service_account.Credentials.from_service_account_file(\n",
    "    key_path, scopes=[\"https://www.googleapis.com/auth/cloud-platform\"],\n",
    ")"
   ]
  },
  {
   "cell_type": "code",
   "execution_count": 8,
   "id": "9025018a-b139-4981-b798-a6dd333429d7",
   "metadata": {},
   "outputs": [
    {
     "name": "stdout",
     "output_type": "stream",
     "text": [
      "peaceful-parity-336514\n",
      "<google.oauth2.service_account.Credentials object at 0x000001FABB22B820>\n"
     ]
    }
   ],
   "source": [
    "print(credentials.project_id)\n",
    "print(credentials)"
   ]
  },
  {
   "cell_type": "code",
   "execution_count": 9,
   "id": "cff27da4-43d5-4c3c-937c-af440f419d11",
   "metadata": {},
   "outputs": [],
   "source": [
    "#Setup the GCP client. \n",
    "#Create the object of the client credentials and project_id comes from the key file \n",
    "client = bigquery.Client(credentials=credentials, project=credentials.project_id)"
   ]
  },
  {
   "cell_type": "code",
   "execution_count": 10,
   "id": "1aeed2eb-54cc-4789-a226-17841cc4a64c",
   "metadata": {},
   "outputs": [],
   "source": [
    "#Query to the bigquery-public-data.ml_datasets.iris\n",
    "query = \"\"\"\n",
    "    SELECT *\n",
    "    FROM `bigquery-public-data.ml_datasets.iris`\n",
    "\"\"\""
   ]
  },
  {
   "cell_type": "code",
   "execution_count": 11,
   "id": "736d8062-1c8e-4d18-80ef-53de8fea4526",
   "metadata": {},
   "outputs": [],
   "source": [
    "query_job = client.query(query)\n",
    "df = query_job.to_dataframe()"
   ]
  },
  {
   "cell_type": "code",
   "execution_count": 12,
   "id": "d324fdf9-fd0b-4d91-86d5-274b6852ccb3",
   "metadata": {},
   "outputs": [
    {
     "name": "stdout",
     "output_type": "stream",
     "text": [
      "Row((5.1, 2.5, 3.0, 1.1, 'versicolor'), {'sepal_length': 0, 'sepal_width': 1, 'petal_length': 2, 'petal_width': 3, 'species': 4})\n",
      "Row((5.0, 2.0, 3.5, 1.0, 'versicolor'), {'sepal_length': 0, 'sepal_width': 1, 'petal_length': 2, 'petal_width': 3, 'species': 4})\n",
      "Row((5.7, 2.6, 3.5, 1.0, 'versicolor'), {'sepal_length': 0, 'sepal_width': 1, 'petal_length': 2, 'petal_width': 3, 'species': 4})\n",
      "Row((6.0, 2.2, 4.0, 1.0, 'versicolor'), {'sepal_length': 0, 'sepal_width': 1, 'petal_length': 2, 'petal_width': 3, 'species': 4})\n",
      "Row((5.8, 2.6, 4.0, 1.2, 'versicolor'), {'sepal_length': 0, 'sepal_width': 1, 'petal_length': 2, 'petal_width': 3, 'species': 4})\n",
      "Row((5.5, 2.3, 4.0, 1.3, 'versicolor'), {'sepal_length': 0, 'sepal_width': 1, 'petal_length': 2, 'petal_width': 3, 'species': 4})\n",
      "Row((6.1, 2.8, 4.0, 1.3, 'versicolor'), {'sepal_length': 0, 'sepal_width': 1, 'petal_length': 2, 'petal_width': 3, 'species': 4})\n",
      "Row((5.5, 2.5, 4.0, 1.3, 'versicolor'), {'sepal_length': 0, 'sepal_width': 1, 'petal_length': 2, 'petal_width': 3, 'species': 4})\n",
      "Row((6.4, 3.2, 4.5, 1.5, 'versicolor'), {'sepal_length': 0, 'sepal_width': 1, 'petal_length': 2, 'petal_width': 3, 'species': 4})\n",
      "Row((5.6, 3.0, 4.5, 1.5, 'versicolor'), {'sepal_length': 0, 'sepal_width': 1, 'petal_length': 2, 'petal_width': 3, 'species': 4})\n",
      "Row((6.2, 2.2, 4.5, 1.5, 'versicolor'), {'sepal_length': 0, 'sepal_width': 1, 'petal_length': 2, 'petal_width': 3, 'species': 4})\n"
     ]
    }
   ],
   "source": [
    "#print(query_job, \"\\n\")\n",
    "#print(\"The query data:\")\n",
    "i = 0\n",
    "limit = 10\n",
    "for row in query_job:\n",
    "    # Row values can be accessed by field name or index.\n",
    "    print(row)\n",
    "    i+=1\n",
    "    if i > limit: break"
   ]
  },
  {
   "cell_type": "code",
   "execution_count": 13,
   "id": "fdceb1b1-8a11-4ec8-8f3b-9c34f7980469",
   "metadata": {},
   "outputs": [
    {
     "name": "stdout",
     "output_type": "stream",
     "text": [
      "     sepal_length  sepal_width  petal_length  petal_width     species\n",
      "0             5.1          2.5           3.0          1.1  versicolor\n",
      "1             5.0          2.0           3.5          1.0  versicolor\n",
      "2             5.7          2.6           3.5          1.0  versicolor\n",
      "3             6.0          2.2           4.0          1.0  versicolor\n",
      "4             5.8          2.6           4.0          1.2  versicolor\n",
      "..            ...          ...           ...          ...         ...\n",
      "145           4.7          3.2           1.3          0.2      setosa\n",
      "146           5.5          3.5           1.3          0.2      setosa\n",
      "147           4.4          3.0           1.3          0.2      setosa\n",
      "148           4.4          3.2           1.3          0.2      setosa\n",
      "149           5.4          3.9           1.3          0.4      setosa\n",
      "\n",
      "[150 rows x 5 columns]\n"
     ]
    }
   ],
   "source": [
    "print(df)"
   ]
  },
  {
   "cell_type": "code",
   "execution_count": 14,
   "id": "153b5d13-8066-4764-ae62-f2b4dfe84fb5",
   "metadata": {},
   "outputs": [
    {
     "name": "stderr",
     "output_type": "stream",
     "text": [
      "C:\\Users\\emaxkra\\AppData\\Local\\Temp/ipykernel_11156/2892780732.py:3: FutureWarning: In a future version of pandas all arguments of DataFrame.drop except for the argument 'labels' will be keyword-only\n",
      "  features = df.drop(\"species\",1)\n"
     ]
    }
   ],
   "source": [
    "#Feature definision \n",
    "target = df[\"species\"]\n",
    "features = df.drop(\"species\",1)"
   ]
  },
  {
   "cell_type": "code",
   "execution_count": 15,
   "id": "bf1e4e07-c31c-4b8b-8761-123e129c5dc4",
   "metadata": {},
   "outputs": [
    {
     "name": "stdout",
     "output_type": "stream",
     "text": [
      "targets:\n",
      " 0      versicolor\n",
      "1      versicolor\n",
      "2      versicolor\n",
      "3      versicolor\n",
      "4      versicolor\n",
      "          ...    \n",
      "145        setosa\n",
      "146        setosa\n",
      "147        setosa\n",
      "148        setosa\n",
      "149        setosa\n",
      "Name: species, Length: 150, dtype: object\n",
      "==========================================\n",
      "features:\n",
      "      sepal_length  sepal_width  petal_length  petal_width\n",
      "0             5.1          2.5           3.0          1.1\n",
      "1             5.0          2.0           3.5          1.0\n",
      "2             5.7          2.6           3.5          1.0\n",
      "3             6.0          2.2           4.0          1.0\n",
      "4             5.8          2.6           4.0          1.2\n",
      "..            ...          ...           ...          ...\n",
      "145           4.7          3.2           1.3          0.2\n",
      "146           5.5          3.5           1.3          0.2\n",
      "147           4.4          3.0           1.3          0.2\n",
      "148           4.4          3.2           1.3          0.2\n",
      "149           5.4          3.9           1.3          0.4\n",
      "\n",
      "[150 rows x 4 columns]\n"
     ]
    }
   ],
   "source": [
    "print(\"targets:\\n\",target)\n",
    "print(\"==========================================\")\n",
    "print(\"features:\\n\",features)"
   ]
  },
  {
   "cell_type": "code",
   "execution_count": 16,
   "id": "da8cb6d2-54b9-4a16-8bf9-9484074a5be7",
   "metadata": {},
   "outputs": [],
   "source": [
    "#Label the target set and encode it into integet \n",
    "label_encoder = LabelEncoder()"
   ]
  },
  {
   "cell_type": "code",
   "execution_count": 17,
   "id": "41d44415-6028-4fbd-b984-f87078e829aa",
   "metadata": {},
   "outputs": [
    {
     "data": {
      "text/plain": [
       "['setosa', 'versicolor', 'virginica']"
      ]
     },
     "execution_count": 17,
     "metadata": {},
     "output_type": "execute_result"
    }
   ],
   "source": [
    "# just a test of classes output\n",
    "a = label_encoder.fit(target)\n",
    "list(a.classes_)"
   ]
  },
  {
   "cell_type": "code",
   "execution_count": 18,
   "id": "0abe7870-48d2-43db-9a4b-7dab8f6342a7",
   "metadata": {},
   "outputs": [],
   "source": [
    "target_int = label_encoder.fit_transform(target)"
   ]
  },
  {
   "cell_type": "code",
   "execution_count": 19,
   "id": "0b64a26b-7cc6-4445-b7a4-2cb14525701a",
   "metadata": {},
   "outputs": [
    {
     "name": "stdout",
     "output_type": "stream",
     "text": [
      "[1 1 1 1 1 1 1 1 1 1 1 1 1 2 1 1 2 2 1 2 2 2 2 2 2 0 0 0 0 0 0 0 0 0 0 0 0\n",
      " 0 0 0 1 1 1 1 1 1 1 2 2 2 2 2 2 2 2 0 0 0 0 0 0 1 1 1 1 1 1 1 1 1 2 2 2 2\n",
      " 2 2 1 2 2 2 2 2 2 2 2 2 2 2 0 0 0 0 0 0 0 0 0 0 0 0 0 0 1 1 1 1 1 2 1 1 2\n",
      " 2 2 2 2 2 2 2 0 0 0 0 0 0 0 0 1 1 1 1 1 1 1 1 1 1 2 2 2 2 2 2 2 0 0 0 0 0\n",
      " 0 0]\n"
     ]
    }
   ],
   "source": [
    "print(target_int)"
   ]
  },
  {
   "cell_type": "code",
   "execution_count": 20,
   "id": "ba21b431-45aa-41a1-974d-6949c4cb0b0b",
   "metadata": {},
   "outputs": [],
   "source": [
    "#Split data into train and test sets using train_test_split\n",
    "#sklearn.model_selection.train_test_split(*arrays, test_size=None, train_size=None, random_state=None, shuffle=True, stratify=None)\n",
    "X_train, X_test, y_train, y_test = train_test_split(features, target_int, test_size=0.4, random_state=42)"
   ]
  },
  {
   "cell_type": "code",
   "execution_count": 21,
   "id": "a599cd92-bdee-4fee-90bf-aa9c8b7084d7",
   "metadata": {},
   "outputs": [
    {
     "name": "stdout",
     "output_type": "stream",
     "text": [
      "     sepal_length  sepal_width  petal_length  petal_width\n",
      "123           4.8          3.1           1.6          0.2\n",
      "24            7.2          3.2           6.0          1.8\n",
      "25            4.6          3.6           1.0          0.2\n",
      "23            6.3          3.3           6.0          2.5\n",
      "94            5.0          3.6           1.4          0.2\n",
      "..            ...          ...           ...          ...\n",
      "71            6.3          2.8           5.1          1.5\n",
      "106           6.3          2.3           4.4          1.3\n",
      "14            6.0          3.4           4.5          1.6\n",
      "92            5.1          3.5           1.4          0.2\n",
      "102           5.5          2.4           3.7          1.0\n",
      "\n",
      "[90 rows x 4 columns]\n",
      "[0 2 0 2 0 0 0 2 2 0 2 0 2 0 1 2 0 2 1 0 2 2 0 2 2 0 2 1 1 2 0 0 2 1 1 0 1\n",
      " 2 0 0 1 2 0 2 2 1 2 0 1 1 2 1 2 2 1 2 1 0 2 0 0 1 0 0 2 0 2 0 2 0 0 1 0 2\n",
      " 1 2 1 1 0 2 2 2 0 0 2 2 1 1 0 1] length: 90\n"
     ]
    }
   ],
   "source": [
    "print(X_train)\n",
    "print(y_train,\"length:\",len(y_train))"
   ]
  },
  {
   "cell_type": "code",
   "execution_count": 22,
   "id": "4451aa78-14c7-4a49-8208-98d7a06f5b24",
   "metadata": {},
   "outputs": [],
   "source": [
    "dtrain = xgb.DMatrix(X_train, label = y_train)\n",
    "dtest = xgb.DMatrix(X_test, label = y_test)"
   ]
  },
  {
   "cell_type": "code",
   "execution_count": 40,
   "id": "c0ccd779-cfc5-49be-b9a3-2fc33827861d",
   "metadata": {},
   "outputs": [
    {
     "name": "stdout",
     "output_type": "stream",
     "text": [
      "[21:22:38] WARNING: C:/Users/Administrator/workspace/xgboost-win64_release_1.5.1/src/learner.cc:1115: Starting in XGBoost 1.3.0, the default evaluation metric used with the objective 'multi:softprob' was changed from 'merror' to 'mlogloss'. Explicitly set eval_metric if you'd like to restore the old behavior.\n"
     ]
    }
   ],
   "source": [
    "#Train Model \n",
    "param = {'max_depth': 3, 'eta': 0.3, 'objective': 'multi:softprob', 'num_class': 3}\n",
    "\n",
    "#param = {'max_depth': 3, 'eta': 0.3, 'objective': 'survival:cox'}\n",
    "num_round = 10\n",
    "bst = xgb.train(param, dtrain, num_round)"
   ]
  },
  {
   "cell_type": "code",
   "execution_count": 41,
   "id": "8e3b2eee-1cfe-4e6c-bdff-ca9601879b2c",
   "metadata": {},
   "outputs": [
    {
     "name": "stdout",
     "output_type": "stream",
     "text": [
      "0.9298245614035089\n"
     ]
    }
   ],
   "source": [
    "# Evaluation\n",
    "pred = bst.predict(dtest)\n",
    "best_preds = np.asarray([np.argmax(line) for line in pred])\n",
    "print(precision_score(y_test, best_preds, average='macro'))"
   ]
  },
  {
   "cell_type": "code",
   "execution_count": 64,
   "id": "352f391c-eae7-47c2-b600-4423484a5a37",
   "metadata": {},
   "outputs": [
    {
     "name": "stdout",
     "output_type": "stream",
     "text": [
      "<Bucket: dataproc_lab_bucket>\n",
      "<Bucket: gcf-sources-981390829592-us-central1>\n",
      "<Bucket: peaceful-parity-336514.appspot.com>\n",
      "<Bucket: staging.peaceful-parity-336514.appspot.com>\n",
      "<Bucket: us.artifacts.peaceful-parity-336514.appspot.com>\n",
      "{'kind': 'storage#bucket', 'selfLink': 'https://www.googleapis.com/storage/v1/b/dataproc_lab_bucket', 'id': 'dataproc_lab_bucket', 'name': 'dataproc_lab_bucket', 'projectNumber': '981390829592', 'metageneration': '6', 'location': 'US', 'storageClass': 'STANDARD', 'etag': 'CAY=', 'timeCreated': '2022-02-05T05:07:27.989Z', 'updated': '2022-02-06T15:39:26.319Z', 'iamConfiguration': {'bucketPolicyOnly': {'enabled': False}, 'uniformBucketLevelAccess': {'enabled': False}, 'publicAccessPrevention': 'inherited'}, 'locationType': 'multi-region', 'rpo': 'DEFAULT'}\n",
      "kind : storage#bucket\n",
      "selfLink : https://www.googleapis.com/storage/v1/b/dataproc_lab_bucket\n",
      "id : dataproc_lab_bucket\n",
      "name : dataproc_lab_bucket\n",
      "projectNumber : 981390829592\n",
      "metageneration : 6\n",
      "location : US\n",
      "storageClass : STANDARD\n",
      "etag : CAY=\n",
      "timeCreated : 2022-02-05T05:07:27.989Z\n",
      "updated : 2022-02-06T15:39:26.319Z\n",
      "iamConfiguration : {'bucketPolicyOnly': {'enabled': False}, 'uniformBucketLevelAccess': {'enabled': False}, 'publicAccessPrevention': 'inherited'}\n",
      "locationType : multi-region\n",
      "rpo : DEFAULT\n"
     ]
    }
   ],
   "source": [
    "# List buckets\n",
    "storage_client = storage.Client(credentials=credentials, project=credentials.project_id)\n",
    "buckets = storage_client.list_buckets()\n",
    "for i in buckets:\n",
    "    print(i)\n",
    "    \n",
    "bucket_info = storage_client.get_bucket(\"dataproc_lab_bucket\")\n",
    "print(bucket_info._properties)\n",
    "for i in bucket_info._properties.keys():\n",
    "    print(i,\":\",bucket_info._properties[i])"
   ]
  },
  {
   "cell_type": "code",
   "execution_count": 82,
   "id": "55d979a6-20f2-4be6-8984-db835f35b03e",
   "metadata": {},
   "outputs": [
    {
     "name": "stdout",
     "output_type": "stream",
     "text": [
      "Bucket: ml_model_lab doesn't exist\n",
      "Creating the bucket: ml_model_lab\n"
     ]
    }
   ],
   "source": [
    "# Create bucket ml_model_lab\n",
    "bucket_name = \"ml_model_lab\"\n",
    "\n",
    "#check if the bucket exists\n",
    "try:\n",
    "   storage_client.get_bucket(bucket_name)\n",
    "   print(\"Bucket:\", bucket_name, \"exists\")\n",
    "except:\n",
    "    print(\"Bucket:\", bucket_name, \"doesn't exist\")\n",
    "    print(\"Creating the bucket:\", bucket_name)\n",
    "    bucket = storage_client.bucket(bucket_name)\n",
    "    bucket.storage_class = \"STANDARD\"\n",
    "    bucket.locationType = \"multi-region\"\n",
    "    new_bucket = storage_client.create_bucket(bucket, location=\"us\")"
   ]
  },
  {
   "cell_type": "code",
   "execution_count": 83,
   "id": "69cd9731-e001-4abc-991c-3ccddd789cb9",
   "metadata": {},
   "outputs": [
    {
     "name": "stdout",
     "output_type": "stream",
     "text": [
      "{'kind': 'storage#bucket', 'selfLink': 'https://www.googleapis.com/storage/v1/b/ml_model_lab', 'id': 'ml_model_lab', 'name': 'ml_model_lab', 'projectNumber': '981390829592', 'metageneration': '1', 'location': 'US', 'storageClass': 'STANDARD', 'etag': 'CAE=', 'timeCreated': '2022-02-12T11:27:30.010Z', 'updated': '2022-02-12T11:27:30.010Z', 'iamConfiguration': {'bucketPolicyOnly': {'enabled': False}, 'uniformBucketLevelAccess': {'enabled': False}, 'publicAccessPrevention': 'inherited'}, 'locationType': 'multi-region', 'rpo': 'DEFAULT'}\n",
      "kind : storage#bucket\n",
      "selfLink : https://www.googleapis.com/storage/v1/b/ml_model_lab\n",
      "id : ml_model_lab\n",
      "name : ml_model_lab\n",
      "projectNumber : 981390829592\n",
      "metageneration : 1\n",
      "location : US\n",
      "storageClass : STANDARD\n",
      "etag : CAE=\n",
      "timeCreated : 2022-02-12T11:27:30.010Z\n",
      "updated : 2022-02-12T11:27:30.010Z\n",
      "iamConfiguration : {'bucketPolicyOnly': {'enabled': False}, 'uniformBucketLevelAccess': {'enabled': False}, 'publicAccessPrevention': 'inherited'}\n",
      "locationType : multi-region\n",
      "rpo : DEFAULT\n"
     ]
    }
   ],
   "source": [
    "#Check bucket creation \n",
    "bucket_info = storage_client.get_bucket(bucket_name)\n",
    "print(bucket_info._properties)\n",
    "for i in bucket_info._properties.keys():\n",
    "    print(i,\":\",bucket_info._properties[i])"
   ]
  },
  {
   "cell_type": "code",
   "execution_count": 90,
   "id": "771453a3-db2d-420a-bc21-1cefc67f8ffd",
   "metadata": {},
   "outputs": [],
   "source": [
    "# Export Model \n",
    "model  = 'model.bst'\n",
    "bst.save_model(model)\n",
    "blob = bucket.blob('{}/{}'.format('ml_lab',model))\n",
    "blob.upload_from_filename(model)"
   ]
  },
  {
   "cell_type": "code",
   "execution_count": null,
   "id": "01256451-a252-47d4-82fb-ebfc23022558",
   "metadata": {},
   "outputs": [],
   "source": []
  }
 ],
 "metadata": {
  "kernelspec": {
   "display_name": "Python 3 (ipykernel)",
   "language": "python",
   "name": "python3"
  },
  "language_info": {
   "codemirror_mode": {
    "name": "ipython",
    "version": 3
   },
   "file_extension": ".py",
   "mimetype": "text/x-python",
   "name": "python",
   "nbconvert_exporter": "python",
   "pygments_lexer": "ipython3",
   "version": "3.9.7"
  }
 },
 "nbformat": 4,
 "nbformat_minor": 5
}
