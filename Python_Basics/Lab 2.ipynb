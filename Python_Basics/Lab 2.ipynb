{
 "cells": [
  {
   "cell_type": "markdown",
   "id": "efb20312-afe1-4e03-a977-e0ced60d3d8d",
   "metadata": {},
   "source": [
    "Задание 2"
   ]
  },
  {
   "cell_type": "markdown",
   "id": "d6ccab82-07cc-407a-984e-67c4dcef927a",
   "metadata": {},
   "source": [
    "Дана переменная, в которой хранится четырехзначное число (год). Необходимо написать программу, которая выведет, является ли данный год високосным или обычным."
   ]
  },
  {
   "cell_type": "code",
   "execution_count": 1,
   "id": "f06d8c85-df98-43f1-8c57-23b688af4c62",
   "metadata": {},
   "outputs": [],
   "source": [
    "year = 1900"
   ]
  },
  {
   "cell_type": "code",
   "execution_count": 2,
   "id": "741c5a3f-c3b2-44dd-86f2-9109e6b532a2",
   "metadata": {},
   "outputs": [],
   "source": [
    "def check_year(a):\n",
    "    if((a % 4) == 0): return (print(\"The year is visokosnii\"))\n",
    "    else: return (print(\"The year is not visokosnii\"))"
   ]
  },
  {
   "cell_type": "code",
   "execution_count": 3,
   "id": "e66bbbd7-2ca6-4fea-b436-200192874ffc",
   "metadata": {},
   "outputs": [
    {
     "name": "stdout",
     "output_type": "stream",
     "text": [
      "The year is visokosnii\n"
     ]
    }
   ],
   "source": [
    "check_year(year)"
   ]
  },
  {
   "cell_type": "code",
   "execution_count": 4,
   "id": "a609ca44-ba70-4b77-960f-16db5d4f4277",
   "metadata": {},
   "outputs": [
    {
     "name": "stdout",
     "output_type": "stream",
     "text": [
      "The year is not visokosnii\n"
     ]
    }
   ],
   "source": [
    "year = 1901\n",
    "check_year(year)"
   ]
  },
  {
   "cell_type": "code",
   "execution_count": 5,
   "id": "77922e3a-ad7b-445a-a76c-35a7df8d4b87",
   "metadata": {},
   "outputs": [
    {
     "name": "stdout",
     "output_type": "stream",
     "text": [
      "The year is not visokosnii\n"
     ]
    }
   ],
   "source": [
    "year = 1902\n",
    "check_year(year)"
   ]
  },
  {
   "cell_type": "code",
   "execution_count": 6,
   "id": "7543bfa4-fdfb-4fd9-a460-3c08bb84ccd6",
   "metadata": {},
   "outputs": [
    {
     "name": "stdout",
     "output_type": "stream",
     "text": [
      "The year is not visokosnii\n"
     ]
    }
   ],
   "source": [
    "year = 1903\n",
    "check_year(year)"
   ]
  },
  {
   "cell_type": "code",
   "execution_count": 8,
   "id": "35748854-9ad2-4c6b-99b9-693815a24290",
   "metadata": {},
   "outputs": [
    {
     "name": "stdout",
     "output_type": "stream",
     "text": [
      "The year is visokosnii\n"
     ]
    }
   ],
   "source": [
    "year = 1904\n",
    "check_year(year)"
   ]
  },
  {
   "cell_type": "code",
   "execution_count": null,
   "id": "3048634e-ce49-4dd4-91bb-9df814253ec4",
   "metadata": {},
   "outputs": [],
   "source": []
  }
 ],
 "metadata": {
  "kernelspec": {
   "display_name": "Python 3 (ipykernel)",
   "language": "python",
   "name": "python3"
  },
  "language_info": {
   "codemirror_mode": {
    "name": "ipython",
    "version": 3
   },
   "file_extension": ".py",
   "mimetype": "text/x-python",
   "name": "python",
   "nbconvert_exporter": "python",
   "pygments_lexer": "ipython3",
   "version": "3.9.7"
  }
 },
 "nbformat": 4,
 "nbformat_minor": 5
}
