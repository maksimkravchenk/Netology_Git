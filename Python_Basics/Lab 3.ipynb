{
 "cells": [
  {
   "cell_type": "markdown",
   "id": "5484f3bf-b206-47c0-a6da-d749ca64667f",
   "metadata": {},
   "source": [
    "Задание 3"
   ]
  },
  {
   "cell_type": "markdown",
   "id": "15bb6f42-8024-4966-9b20-d7f62c158cbf",
   "metadata": {},
   "source": [
    "Необходимо написать программу, которая будет запрашивать у пользователя месяц и дату рождения и выводить соответствующий знак зодиака."
   ]
  },
  {
   "cell_type": "code",
   "execution_count": 1,
   "id": "cda72445-80ef-4df9-b51e-7535f38cf327",
   "metadata": {},
   "outputs": [],
   "source": [
    "Zodiak = ['Водолей','Рыбы','Овен','Телец','Близнецы',' Рак','Лев','Дева','Весы','Скорпион','Стрелец','Козерог']\n",
    "day_number = [20,19,21,20,21,21,23,23,23,23,22,22]"
   ]
  },
  {
   "cell_type": "code",
   "execution_count": 2,
   "id": "12c124bd-2a75-4455-8964-e8c23b3c2227",
   "metadata": {
    "tags": []
   },
   "outputs": [
    {
     "name": "stdout",
     "output_type": "stream",
     "text": [
      "Please input the day of birth.\n"
     ]
    },
    {
     "name": "stdin",
     "output_type": "stream",
     "text": [
      " 19\n"
     ]
    },
    {
     "name": "stdout",
     "output_type": "stream",
     "text": [
      "Please input the month number of birth. Example May = 5\n"
     ]
    },
    {
     "name": "stdin",
     "output_type": "stream",
     "text": [
      " 4\n"
     ]
    },
    {
     "name": "stdout",
     "output_type": "stream",
     "text": [
      "You date is:  19 / 4\n",
      "Your Zodiac sign is:  Овен\n"
     ]
    }
   ],
   "source": [
    "print(\"Please input the day of birth.\")\n",
    "Day = int(input())\n",
    "print(\"Please input the month number of birth. Example May = 5\")\n",
    "Month = int(input())\n",
    "print(\"You date is: \", Day, \"/\", Month)\n",
    "if(Day >= day_number[Month-1]): print(\"Your Zodiac sign is: \",Zodiak[Month-1])\n",
    "else: print(\"Your Zodiac sign is: \",Zodiak[Month-2])"
   ]
  },
  {
   "cell_type": "code",
   "execution_count": null,
   "id": "e18e60e8-61b8-4ce6-89ee-d55340b99e96",
   "metadata": {},
   "outputs": [],
   "source": []
  },
  {
   "cell_type": "code",
   "execution_count": null,
   "id": "ba486c87-f919-4309-a945-6d8b83e25a8e",
   "metadata": {},
   "outputs": [],
   "source": []
  }
 ],
 "metadata": {
  "kernelspec": {
   "display_name": "Python 3 (ipykernel)",
   "language": "python",
   "name": "python3"
  },
  "language_info": {
   "codemirror_mode": {
    "name": "ipython",
    "version": 3
   },
   "file_extension": ".py",
   "mimetype": "text/x-python",
   "name": "python",
   "nbconvert_exporter": "python",
   "pygments_lexer": "ipython3",
   "version": "3.9.7"
  }
 },
 "nbformat": 4,
 "nbformat_minor": 5
}
