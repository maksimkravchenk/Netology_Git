{
 "cells": [
  {
   "cell_type": "raw",
   "id": "cfc9791c-f7b4-4e90-afeb-2cbe042ea4d0",
   "metadata": {},
   "source": [
    "Задание 1:"
   ]
  },
  {
   "cell_type": "markdown",
   "id": "3c153036-f12c-4b2d-be15-f0ef7aa172cd",
   "metadata": {},
   "source": [
    "Даны 2 переменных, в которых хранятся строки произвольной длины: phrase_1 и phrase_2."
   ]
  },
  {
   "cell_type": "markdown",
   "id": "e7e7e344-288c-4eb7-8a4b-4b3ac8e9897b",
   "metadata": {},
   "source": [
    "Напишите код, который проверяет какая из этих строк длиннее."
   ]
  },
  {
   "cell_type": "code",
   "execution_count": 1,
   "id": "0aeecea4-0c04-430e-9ed8-0afd98f9de75",
   "metadata": {},
   "outputs": [],
   "source": [
    "phrase_1 = \"Насколько проще было бы писать программы, если бы не заказчики\"\n",
    "phrase_2 = \"Насколько проще было бы писать программы, если бы не заказчики\""
   ]
  },
  {
   "cell_type": "code",
   "execution_count": 2,
   "id": "e539d35e-7400-4667-b67b-cb9a47dfaff9",
   "metadata": {},
   "outputs": [],
   "source": [
    "def phrase_compare(a,b):\n",
    "    A = len(a)\n",
    "    print(A)\n",
    "    B = len(b)\n",
    "    print(B)\n",
    "    if(A>B):\n",
    "        return (print(\"First string is longer\"))\n",
    "    elif(A==B):\n",
    "        return (print(\"Strings are equal\"))\n",
    "    else:\n",
    "        return (print(\"Second string is longer\"))"
   ]
  },
  {
   "cell_type": "code",
   "execution_count": 3,
   "id": "82206d2c-9ab4-4833-8696-99548d4123fc",
   "metadata": {},
   "outputs": [
    {
     "name": "stdout",
     "output_type": "stream",
     "text": [
      "62\n",
      "62\n",
      "Strings are equal\n"
     ]
    }
   ],
   "source": [
    "phrase_compare(phrase_1, phrase_2)"
   ]
  },
  {
   "cell_type": "code",
   "execution_count": 4,
   "id": "6da0efd0-5061-4752-9f00-deedf8a53be9",
   "metadata": {},
   "outputs": [],
   "source": [
    "phrase_1 = \"Насколько проще было бы писать программы, если бы не заказчики\"\n",
    "phrase_2 = \"Насколько проще было бы писать\""
   ]
  },
  {
   "cell_type": "code",
   "execution_count": 5,
   "id": "6c72af23-29f8-4f52-8361-6975b96558ac",
   "metadata": {},
   "outputs": [
    {
     "name": "stdout",
     "output_type": "stream",
     "text": [
      "62\n",
      "30\n",
      "First string is longer\n"
     ]
    }
   ],
   "source": [
    "phrase_compare(phrase_1, phrase_2)"
   ]
  },
  {
   "cell_type": "code",
   "execution_count": 6,
   "id": "49494e85-16d5-450e-bd57-2fecfd0b938e",
   "metadata": {},
   "outputs": [],
   "source": [
    "phrase_1 = \"Насколько\"\n",
    "phrase_2 = \"Насколько проще было бы писать\""
   ]
  },
  {
   "cell_type": "code",
   "execution_count": 8,
   "id": "b917bbd9-273e-4002-9612-6e1074788991",
   "metadata": {},
   "outputs": [
    {
     "name": "stdout",
     "output_type": "stream",
     "text": [
      "9\n",
      "30\n",
      "Second string is longer\n"
     ]
    }
   ],
   "source": [
    "phrase_compare(phrase_1, phrase_2)"
   ]
  },
  {
   "cell_type": "code",
   "execution_count": null,
   "id": "ad39f096-408e-420a-8f91-2206c32ad030",
   "metadata": {},
   "outputs": [],
   "source": []
  }
 ],
 "metadata": {
  "kernelspec": {
   "display_name": "Python 3 (ipykernel)",
   "language": "python",
   "name": "python3"
  },
  "language_info": {
   "codemirror_mode": {
    "name": "ipython",
    "version": 3
   },
   "file_extension": ".py",
   "mimetype": "text/x-python",
   "name": "python",
   "nbconvert_exporter": "python",
   "pygments_lexer": "ipython3",
   "version": "3.9.7"
  }
 },
 "nbformat": 4,
 "nbformat_minor": 5
}
