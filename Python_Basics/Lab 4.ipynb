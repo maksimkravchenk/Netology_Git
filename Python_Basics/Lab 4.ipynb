{
 "cells": [
  {
   "cell_type": "markdown",
   "id": "d00f4476-fbd1-4f35-8611-eab492ee88f4",
   "metadata": {},
   "source": [
    "Задание 4"
   ]
  },
  {
   "cell_type": "markdown",
   "id": "1da8468d-a9ce-4a81-aeca-1b83a63c50f5",
   "metadata": {},
   "source": [
    "Вам нужно написать программу для подбора упаковок по размерам товара. Размеры хранятся в переменных (в сантиметрах):\n",
    "    Используйте следующие правила:\n",
    "\n",
    "если каждое из трех измерений менее 15 сантиметров, то выведите на экран “Коробка №1”;\n",
    "если хотя бы одно из измерений больше 15 сантиметров, но менее 50 сантиметров, то выводите “Коробка №2”;\n",
    "если длина товара больше 2 метров, то выводите “Упаковка для лыж”;\n",
    "во всех остальных случаях выводите “Стандартная коробка №3”."
   ]
  },
  {
   "cell_type": "code",
   "execution_count": 2,
   "id": "0d0d3843-2909-48b5-ad93-e3299605549a",
   "metadata": {},
   "outputs": [],
   "source": [
    "def check_package(a,b,c):\n",
    "    if(b > 200): print(\"Упаковка для лыж\")\n",
    "    elif((a < 15) and (b < 15) and (c < 15)): print(\"Коробка №1\")\n",
    "    elif((a < 50) and (b < 50) and (c < 50)): print(\"Коробка №2\")\n",
    "    else:print(\"Коробка №3\")"
   ]
  },
  {
   "cell_type": "code",
   "execution_count": 3,
   "id": "391052bf-0482-42e3-8228-41728c074a05",
   "metadata": {},
   "outputs": [
    {
     "name": "stdout",
     "output_type": "stream",
     "text": [
      "Упаковка для лыж\n"
     ]
    }
   ],
   "source": [
    "width = 10\n",
    "length = 205\n",
    "height = 5\n",
    "\n",
    "check_package(width,length,height)"
   ]
  },
  {
   "cell_type": "code",
   "execution_count": 4,
   "id": "0c6b4edb-5852-4c51-b5b1-5b1378a03393",
   "metadata": {},
   "outputs": [
    {
     "name": "stdout",
     "output_type": "stream",
     "text": [
      "Коробка №2\n"
     ]
    }
   ],
   "source": [
    "width = 10\n",
    "length = 20\n",
    "height = 5\n",
    "\n",
    "check_package(width,length,height)"
   ]
  },
  {
   "cell_type": "code",
   "execution_count": null,
   "id": "37cb8659-15ab-4949-b10d-c3fe4dfa70d9",
   "metadata": {},
   "outputs": [],
   "source": []
  }
 ],
 "metadata": {
  "kernelspec": {
   "display_name": "Python 3 (ipykernel)",
   "language": "python",
   "name": "python3"
  },
  "language_info": {
   "codemirror_mode": {
    "name": "ipython",
    "version": 3
   },
   "file_extension": ".py",
   "mimetype": "text/x-python",
   "name": "python",
   "nbconvert_exporter": "python",
   "pygments_lexer": "ipython3",
   "version": "3.9.7"
  }
 },
 "nbformat": 4,
 "nbformat_minor": 5
}
