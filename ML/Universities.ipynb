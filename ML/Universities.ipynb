{
 "cells": [
  {
   "cell_type": "code",
   "execution_count": 341,
   "id": "0fcbd2a0-a189-45f9-b390-0221a129394f",
   "metadata": {},
   "outputs": [],
   "source": [
    "import pandas as pd\n",
    "import requests\n",
    "from bs4 import BeautifulSoup"
   ]
  },
  {
   "cell_type": "code",
   "execution_count": 342,
   "id": "4cdff627-efc2-4c40-af26-97f01378a20e",
   "metadata": {},
   "outputs": [],
   "source": [
    "def extract_info(a,b):\n",
    "    url = a\n",
    "    req = requests.get(a)\n",
    "    soup = BeautifulSoup(req.content,'html5lib')\n",
    "    table = soup.find_all('table', class_=\"table borderless\")\n",
    "    if(b == \"Students_num\"):\n",
    "        aa = table[3].find_all('tr')\n",
    "        aaa = aa[0].find_all('td')\n",
    "        return aaa[0].get_text().replace(\",\", \"\").split(\"-\")[-1]\n",
    "    elif(b == \"link\"):\n",
    "        aa = table[0].find_all('tr')\n",
    "        aaa = aa[0].find_all('td')\n",
    "        return aaa[0].find_all('a')[0].attrs['href']"
   ]
  },
  {
   "cell_type": "code",
   "execution_count": 343,
   "id": "cdbab0d3-612f-4860-aa21-e37ee48f1040",
   "metadata": {},
   "outputs": [],
   "source": [
    "def create_file(a,b,c,d):\n",
    "    with open('Universities.csv', 'w', encoding='utf-8') as f2write:\n",
    "        i = 0\n",
    "        f2write.write(\"University name , Link , Location, Number of Students \\n\")\n",
    "        for i in range(len(a)):\n",
    "            f2write.write(a[i] + \",\" + b[i] + \",\" + c[i] + \",\" + d[i] + \"\\n\")\n",
    "        f2write.close()\n",
    "    return None"
   ]
  },
  {
   "cell_type": "code",
   "execution_count": 344,
   "id": "a9474bd4-6a71-4fb7-924c-7e648041e169",
   "metadata": {},
   "outputs": [],
   "source": [
    "url = \"https://www.4icu.org/ru/\"\n",
    "website = requests.get(url) \n",
    "soup = BeautifulSoup(website.content,'html5lib')\n",
    "table = soup.find('table', class_=\"table table-hover\")"
   ]
  },
  {
   "cell_type": "code",
   "execution_count": 345,
   "id": "8adc64c0-bfa1-4a42-9067-c9c5b08c384d",
   "metadata": {},
   "outputs": [],
   "source": [
    "main_url = \"https://www.4icu.org\"\n",
    "Uni_name = []  # stores the book names.\n",
    "h_link = [] # stores the author name of the book.\n",
    "location = [] # stores the language of the book.\n",
    "Studens_num = []\n",
    "i = 0\n"
   ]
  },
  {
   "cell_type": "code",
   "execution_count": 346,
   "id": "1cea4be5-ce5e-47c2-8daa-3165865e9ef5",
   "metadata": {},
   "outputs": [
    {
     "name": "stdout",
     "output_type": "stream",
     "text": [
      "end of loop\n"
     ]
    }
   ],
   "source": [
    "for row in table.tbody.find_all('tr'):\n",
    "    columns = row.find_all('td')\n",
    "    columns_2 = row.find_all(\"a\")\n",
    "    if(columns_2[0].attrs['href'] == \"/about/add.htm\"): \n",
    "        print(\"end of loop\")\n",
    "        break\n",
    "    full_url = main_url + columns_2[0].attrs['href']\n",
    "    uni_name = columns_2[0].get_text().replace(\",\", \" \")\n",
    "    Uni_name.append(uni_name)\n",
    "    h_link.append(extract_info(full_url,\"link\"))\n",
    "    location.append(columns[2].get_text())\n",
    "    Studens_num.append(extract_info(full_url,\"Students_num\"))\n",
    "#    print(\"i:\",i)\n",
    "#    i+=1"
   ]
  },
  {
   "cell_type": "code",
   "execution_count": 347,
   "id": "3be27dbc-ac2b-47e1-aa85-96e5cf3e0c91",
   "metadata": {},
   "outputs": [],
   "source": [
    "create_file(Uni_name,h_link,location,Studens_num)"
   ]
  },
  {
   "cell_type": "code",
   "execution_count": 269,
   "id": "e598dc85-564f-47c1-bd00-364b6b74f244",
   "metadata": {},
   "outputs": [],
   "source": [
    "url = \"https://www.4icu.org//reviews/4035.htm\"\n",
    "table_1 = \"\"\n",
    "\n",
    "def extract_info(a):\n",
    "    import requests\n",
    "    url = a\n",
    "    req = requests.get(a)\n",
    "    soup = BeautifulSoup(req.content,'html5lib')\n",
    "    table = soup.find_all('table', class_=\"table borderless\")\n",
    "    aa = table[3].find_all('tr')\n",
    "    aaa = aa[0].find_all('td')\n",
    "    return aaa[0].get_text().replace(\",\", \"\").split(\"-\")[-1]"
   ]
  },
  {
   "cell_type": "code",
   "execution_count": 270,
   "id": "5ef51539-2b75-4568-89c0-1a93b39fdd8c",
   "metadata": {},
   "outputs": [
    {
     "name": "stdout",
     "output_type": "stream",
     "text": [
      "29999\n"
     ]
    }
   ],
   "source": [
    "table_1 = extract_info(url)\n",
    "print(table_1)"
   ]
  },
  {
   "cell_type": "markdown",
   "id": "96476e7a-215f-4b25-ac7c-f945c1650da7",
   "metadata": {},
   "source": [
    "table borderless"
   ]
  },
  {
   "cell_type": "code",
   "execution_count": null,
   "id": "959c45ca-561e-4345-b762-7b8a3209d042",
   "metadata": {},
   "outputs": [],
   "source": [
    "def create_file(a,b,c,d)\n",
    "    with open('Universities', 'w', encoding='utf-8') as f2write:\n",
    "        i = 0\n",
    "        for i in len(a):\n",
    "            f2write.write(a[i] + \",\" + b[i] + \",\" + c[i] + \",\" + str(d[i] + \"\\n\"))\n",
    "        f2write.close() "
   ]
  }
 ],
 "metadata": {
  "kernelspec": {
   "display_name": "Python 3 (ipykernel)",
   "language": "python",
   "name": "python3"
  },
  "language_info": {
   "codemirror_mode": {
    "name": "ipython",
    "version": 3
   },
   "file_extension": ".py",
   "mimetype": "text/x-python",
   "name": "python",
   "nbconvert_exporter": "python",
   "pygments_lexer": "ipython3",
   "version": "3.9.7"
  }
 },
 "nbformat": 4,
 "nbformat_minor": 5
}
