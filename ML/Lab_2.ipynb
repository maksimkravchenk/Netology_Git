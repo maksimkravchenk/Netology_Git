{
 "cells": [
  {
   "cell_type": "markdown",
   "id": "f47caf70-d7ca-4663-8c9b-ecbade67ce21",
   "metadata": {},
   "source": [
    "# Задание\n",
    "Прочитать про методы оптимизации для нейронных сетей https://habr.com/post/318970/\n",
    "Реализовать самостоятельно логистическую регрессию\n",
    "Обучить ее методом градиентного спуска\n",
    "Методом nesterov momentum\n",
    "Методом rmsprop"
   ]
  },
  {
   "cell_type": "code",
   "execution_count": null,
   "id": "d4b79931-a30d-486f-af57-989a8f01d50b",
   "metadata": {},
   "outputs": [],
   "source": []
  }
 ],
 "metadata": {
  "kernelspec": {
   "display_name": "Python 3 (ipykernel)",
   "language": "python",
   "name": "python3"
  },
  "language_info": {
   "codemirror_mode": {
    "name": "ipython",
    "version": 3
   },
   "file_extension": ".py",
   "mimetype": "text/x-python",
   "name": "python",
   "nbconvert_exporter": "python",
   "pygments_lexer": "ipython3",
   "version": "3.9.7"
  }
 },
 "nbformat": 4,
 "nbformat_minor": 5
}
