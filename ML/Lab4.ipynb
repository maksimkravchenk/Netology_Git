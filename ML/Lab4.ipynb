{
 "cells": [
  {
   "cell_type": "markdown",
   "id": "de45c5bf-6dd3-41eb-a33c-7e512e58039e",
   "metadata": {},
   "source": [
    "# Задание\n",
    "\n",
    "Необходимо запустить практическую часть занятия, и посмотреть самому то, о чём говорили на лекции. По образу практики, попробуйте создать искусственный датасет с лишними столбцами. Целевую метку, при правильной обработке данных, формируйте таким образом, чтобы без затруднений её смогла описать линейная модель. Ориентируйтесь на то, что было показано во время занятия, и каждый шаг описывайте в markdown. Здесь важно видеть ваш ход мысли. Не бойтесь ошибиться или написать не то. Данное задание не имеет какого-то “правильного” решения. Цель - достичь базового понимания проблемы. Чем больше вы фантазируете, тем лучше :) Тем не менее, старайтесь представить те ситуации, которые по-вашему мнению могли бы быть в реальных данных. Успеха!"
   ]
  },
  {
   "cell_type": "code",
   "execution_count": 3,
   "id": "881d2d36-bf72-422a-8adf-cef4b6aab22b",
   "metadata": {},
   "outputs": [],
   "source": [
    "#pip install seaborn"
   ]
  },
  {
   "cell_type": "code",
   "execution_count": 48,
   "id": "6a8c3f2b-d8e1-4f4d-834a-4d77a26011b8",
   "metadata": {},
   "outputs": [],
   "source": [
    "import numpy as np\n",
    "import pandas as pd\n",
    "import seaborn as sns \n",
    "from sklearn.linear_model import LinearRegression\n",
    "from sklearn.preprocessing import PolynomialFeatures\n",
    "import matplotlib.pyplot as plt"
   ]
  },
  {
   "cell_type": "code",
   "execution_count": 34,
   "id": "6f348acc-08d2-4dd4-92ab-7b2e01b831aa",
   "metadata": {},
   "outputs": [
    {
     "data": {
      "text/html": [
       "<div>\n",
       "<style scoped>\n",
       "    .dataframe tbody tr th:only-of-type {\n",
       "        vertical-align: middle;\n",
       "    }\n",
       "\n",
       "    .dataframe tbody tr th {\n",
       "        vertical-align: top;\n",
       "    }\n",
       "\n",
       "    .dataframe thead th {\n",
       "        text-align: right;\n",
       "    }\n",
       "</style>\n",
       "<table border=\"1\" class=\"dataframe\">\n",
       "  <thead>\n",
       "    <tr style=\"text-align: right;\">\n",
       "      <th></th>\n",
       "      <th>age_owner</th>\n",
       "      <th>length</th>\n",
       "      <th>width</th>\n",
       "      <th>price</th>\n",
       "    </tr>\n",
       "  </thead>\n",
       "  <tbody>\n",
       "    <tr>\n",
       "      <th>0</th>\n",
       "      <td>108</td>\n",
       "      <td>123</td>\n",
       "      <td>46</td>\n",
       "      <td>565926</td>\n",
       "    </tr>\n",
       "    <tr>\n",
       "      <th>1</th>\n",
       "      <td>42</td>\n",
       "      <td>27</td>\n",
       "      <td>70</td>\n",
       "      <td>189126</td>\n",
       "    </tr>\n",
       "    <tr>\n",
       "      <th>2</th>\n",
       "      <td>102</td>\n",
       "      <td>42</td>\n",
       "      <td>69</td>\n",
       "      <td>289926</td>\n",
       "    </tr>\n",
       "    <tr>\n",
       "      <th>3</th>\n",
       "      <td>28</td>\n",
       "      <td>18</td>\n",
       "      <td>81</td>\n",
       "      <td>145926</td>\n",
       "    </tr>\n",
       "    <tr>\n",
       "      <th>4</th>\n",
       "      <td>99</td>\n",
       "      <td>67</td>\n",
       "      <td>21</td>\n",
       "      <td>140826</td>\n",
       "    </tr>\n",
       "  </tbody>\n",
       "</table>\n",
       "</div>"
      ],
      "text/plain": [
       "   age_owner  length  width   price\n",
       "0        108     123     46  565926\n",
       "1         42      27     70  189126\n",
       "2        102      42     69  289926\n",
       "3         28      18     81  145926\n",
       "4         99      67     21  140826"
      ]
     },
     "execution_count": 34,
     "metadata": {},
     "output_type": "execute_result"
    }
   ],
   "source": [
    "# Создаём сэмпл\n",
    "n_samples = 1000\n",
    "\n",
    "age_owner = np.random.choice(90, n_samples) + 21\n",
    "length = np.random.choice(120, n_samples) + 15\n",
    "width = np.random.choice(80, n_samples) + 10\n",
    "\n",
    "price = length * width * 100 + 126\n",
    "\n",
    "data = pd.DataFrame({'age_owner': age_owner, 'length': length, 'width': width, 'price': price})\n",
    "data.head(5)"
   ]
  },
  {
   "cell_type": "code",
   "execution_count": 67,
   "id": "9ae354cb-2c77-40c4-a4cc-a4028d0e54d7",
   "metadata": {},
   "outputs": [
    {
     "data": {
      "text/html": [
       "<div>\n",
       "<style scoped>\n",
       "    .dataframe tbody tr th:only-of-type {\n",
       "        vertical-align: middle;\n",
       "    }\n",
       "\n",
       "    .dataframe tbody tr th {\n",
       "        vertical-align: top;\n",
       "    }\n",
       "\n",
       "    .dataframe thead th {\n",
       "        text-align: right;\n",
       "    }\n",
       "</style>\n",
       "<table border=\"1\" class=\"dataframe\">\n",
       "  <thead>\n",
       "    <tr style=\"text-align: right;\">\n",
       "      <th></th>\n",
       "      <th>car_age</th>\n",
       "      <th>car_odometer</th>\n",
       "      <th>car_o_price</th>\n",
       "      <th>car_length</th>\n",
       "      <th>car_width</th>\n",
       "      <th>car_price</th>\n",
       "    </tr>\n",
       "  </thead>\n",
       "  <tbody>\n",
       "    <tr>\n",
       "      <th>0</th>\n",
       "      <td>11</td>\n",
       "      <td>83445</td>\n",
       "      <td>32660</td>\n",
       "      <td>4309</td>\n",
       "      <td>1335</td>\n",
       "      <td>31328.0</td>\n",
       "    </tr>\n",
       "    <tr>\n",
       "      <th>1</th>\n",
       "      <td>8</td>\n",
       "      <td>134328</td>\n",
       "      <td>35840</td>\n",
       "      <td>1872</td>\n",
       "      <td>46</td>\n",
       "      <td>34128.0</td>\n",
       "    </tr>\n",
       "    <tr>\n",
       "      <th>2</th>\n",
       "      <td>8</td>\n",
       "      <td>101134</td>\n",
       "      <td>45959</td>\n",
       "      <td>827</td>\n",
       "      <td>847</td>\n",
       "      <td>44306.0</td>\n",
       "    </tr>\n",
       "    <tr>\n",
       "      <th>3</th>\n",
       "      <td>3</td>\n",
       "      <td>17121</td>\n",
       "      <td>47296</td>\n",
       "      <td>3376</td>\n",
       "      <td>1670</td>\n",
       "      <td>47188.0</td>\n",
       "    </tr>\n",
       "    <tr>\n",
       "      <th>4</th>\n",
       "      <td>3</td>\n",
       "      <td>136781</td>\n",
       "      <td>37295</td>\n",
       "      <td>2294</td>\n",
       "      <td>39</td>\n",
       "      <td>36615.0</td>\n",
       "    </tr>\n",
       "    <tr>\n",
       "      <th>5</th>\n",
       "      <td>6</td>\n",
       "      <td>105882</td>\n",
       "      <td>31198</td>\n",
       "      <td>3008</td>\n",
       "      <td>1800</td>\n",
       "      <td>30317.0</td>\n",
       "    </tr>\n",
       "    <tr>\n",
       "      <th>6</th>\n",
       "      <td>4</td>\n",
       "      <td>53203</td>\n",
       "      <td>37340</td>\n",
       "      <td>4326</td>\n",
       "      <td>75</td>\n",
       "      <td>36987.0</td>\n",
       "    </tr>\n",
       "    <tr>\n",
       "      <th>7</th>\n",
       "      <td>14</td>\n",
       "      <td>10943</td>\n",
       "      <td>30726</td>\n",
       "      <td>4579</td>\n",
       "      <td>141</td>\n",
       "      <td>30517.0</td>\n",
       "    </tr>\n",
       "    <tr>\n",
       "      <th>8</th>\n",
       "      <td>3</td>\n",
       "      <td>48580</td>\n",
       "      <td>48335</td>\n",
       "      <td>5321</td>\n",
       "      <td>1190</td>\n",
       "      <td>48022.0</td>\n",
       "    </tr>\n",
       "    <tr>\n",
       "      <th>9</th>\n",
       "      <td>8</td>\n",
       "      <td>38996</td>\n",
       "      <td>45061</td>\n",
       "      <td>1448</td>\n",
       "      <td>983</td>\n",
       "      <td>44436.0</td>\n",
       "    </tr>\n",
       "  </tbody>\n",
       "</table>\n",
       "</div>"
      ],
      "text/plain": [
       "   car_age  car_odometer  car_o_price  car_length  car_width  car_price\n",
       "0       11         83445        32660        4309       1335    31328.0\n",
       "1        8        134328        35840        1872         46    34128.0\n",
       "2        8        101134        45959         827        847    44306.0\n",
       "3        3         17121        47296        3376       1670    47188.0\n",
       "4        3        136781        37295        2294         39    36615.0\n",
       "5        6        105882        31198        3008       1800    30317.0\n",
       "6        4         53203        37340        4326         75    36987.0\n",
       "7       14         10943        30726        4579        141    30517.0\n",
       "8        3         48580        48335        5321       1190    48022.0\n",
       "9        8         38996        45061        1448        983    44436.0"
      ]
     },
     "execution_count": 67,
     "metadata": {},
     "output_type": "execute_result"
    }
   ],
   "source": [
    "n_samples = 10000\n",
    "\n",
    "car_age = np.random.choice(np.arange(1,15),n_samples)\n",
    "car_odometer = np.random.choice(np.arange(10000,150000),n_samples)\n",
    "car_o_price = np.random.choice(np.arange(30000,50000),n_samples)\n",
    "car_length = np.random.choice(6000, n_samples) + 15\n",
    "car_width = np.random.choice(2000, n_samples) + 10\n",
    "\n",
    "car_price = np.rint(car_o_price * (1 - (car_odometer*car_age/22500000)))\n",
    "\n",
    "data = pd.DataFrame({'car_age': car_age, 'car_odometer': car_odometer, 'car_o_price': car_o_price, 'car_length': car_length, 'car_width': car_width, 'car_price':car_price})\n",
    "data.head(10)"
   ]
  },
  {
   "cell_type": "code",
   "execution_count": null,
   "id": "6dbb111b-5cb1-4032-9d93-80e0d91290bd",
   "metadata": {},
   "outputs": [],
   "source": []
  },
  {
   "cell_type": "code",
   "execution_count": 68,
   "id": "2c3ea2ed-6361-4993-8fa7-d136e56e662e",
   "metadata": {},
   "outputs": [
    {
     "data": {
      "image/png": "[encoded data removed]",
      "text/plain": [
       "<Figure size 432x288 with 1 Axes>"
      ]
     },
     "metadata": {
      "needs_background": "light"
     },
     "output_type": "display_data"
    }
   ],
   "source": [
    "plt.plot(car_age, car_price, label = \"price(car_age)\")\n",
    "plt.grid()\n",
    "plt.show()"
   ]
  },
  {
   "cell_type": "code",
   "execution_count": 69,
   "id": "d30f3bcb-5384-46d5-8c6f-584c9af20275",
   "metadata": {},
   "outputs": [
    {
     "data": {
      "image/png": "[encoded data removed]",
      "text/plain": [
       "<Figure size 432x288 with 1 Axes>"
      ]
     },
     "metadata": {
      "needs_background": "light"
     },
     "output_type": "display_data"
    }
   ],
   "source": [
    "plt.plot(car_odometer, car_price, label = \"price(car_odometer)\")\n",
    "plt.grid()\n",
    "plt.show()"
   ]
  },
  {
   "cell_type": "code",
   "execution_count": 70,
   "id": "8931fec2-573b-437c-af73-59a06547cd6e",
   "metadata": {},
   "outputs": [
    {
     "name": "stdout",
     "output_type": "stream",
     "text": [
      "Weights: [-1.42627650e+02 -1.33142426e-02  9.72705564e-01  4.87254771e-03\n",
      "  1.56722644e-03]\n",
      "Bias: 2145.7798368026124\n",
      "Error: 230.7001042950507\n"
     ]
    }
   ],
   "source": [
    "from sklearn.metrics import mean_absolute_error\n",
    "\n",
    "X = data[['car_age', 'car_odometer', 'car_o_price', 'car_length', 'car_width']]\n",
    "y = data['car_price']\n",
    "reg = LinearRegression().fit(X, y)\n",
    "print('Weights: {}'.format(reg.coef_))\n",
    "print('Bias: {}'.format(reg.intercept_))\n",
    "\n",
    "pred_values = reg.predict(data[['car_age', 'car_odometer', 'car_o_price', 'car_length', 'car_width']])\n",
    "print('Error: {}'.format(mean_absolute_error(pred_values, y)))"
   ]
  },
  {
   "cell_type": "code",
   "execution_count": 71,
   "id": "f10166f8-8683-4269-a1d4-bbd1bf7e33f0",
   "metadata": {},
   "outputs": [
    {
     "name": "stderr",
     "output_type": "stream",
     "text": [
      "C:\\users\\emaxkra\\appdata\\local\\programs\\python\\python39\\lib\\site-packages\\sklearn\\utils\\deprecation.py:87: FutureWarning: Function get_feature_names is deprecated; get_feature_names is deprecated in 1.0 and will be removed in 1.2. Please use get_feature_names_out instead.\n",
      "  warnings.warn(msg, category=FutureWarning)\n"
     ]
    },
    {
     "data": {
      "text/plain": [
       "['1',\n",
       " 'x0',\n",
       " 'x1',\n",
       " 'x2',\n",
       " 'x3',\n",
       " 'x4',\n",
       " 'x0^2',\n",
       " 'x0 x1',\n",
       " 'x0 x2',\n",
       " 'x0 x3',\n",
       " 'x0 x4',\n",
       " 'x1^2',\n",
       " 'x1 x2',\n",
       " 'x1 x3',\n",
       " 'x1 x4',\n",
       " 'x2^2',\n",
       " 'x2 x3',\n",
       " 'x2 x4',\n",
       " 'x3^2',\n",
       " 'x3 x4',\n",
       " 'x4^2']"
      ]
     },
     "execution_count": 71,
     "metadata": {},
     "output_type": "execute_result"
    }
   ],
   "source": [
    "poly = PolynomialFeatures(2)\n",
    "X = poly.fit_transform(data[['car_age', 'car_odometer', 'car_o_price', 'car_length', 'car_width']])\n",
    "y = data['car_price']\n",
    "\n",
    "poly.get_feature_names()"
   ]
  },
  {
   "cell_type": "code",
   "execution_count": 72,
   "id": "7745da11-e553-4296-b73d-b0d93396c727",
   "metadata": {},
   "outputs": [
    {
     "name": "stdout",
     "output_type": "stream",
     "text": [
      "Weights: [-1.42627650e+02 -1.33142426e-02  9.72705564e-01  4.87254771e-03\n",
      "  1.56722644e-03]\n",
      "Bias: 2145.7798368026124\n",
      "Error: 230.7001042950507\n"
     ]
    }
   ],
   "source": [
    "reg_2 = LinearRegression().fit(X, y)\n",
    "print('Weights: {}'.format(reg.coef_))\n",
    "print('Bias: {}'.format(reg.intercept_))\n",
    "\n",
    "pred_values = reg.predict(data[['car_age', 'car_odometer', 'car_o_price', 'car_length', 'car_width']])\n",
    "print('Error: {}'.format(mean_absolute_error(pred_values, y)))"
   ]
  },
  {
   "cell_type": "code",
   "execution_count": null,
   "id": "5da55f2b-3947-4737-8e18-75c8b3ca3a69",
   "metadata": {},
   "outputs": [],
   "source": []
  },
  {
   "cell_type": "code",
   "execution_count": null,
   "id": "5141bd75-e27f-42e6-89c7-5dcbaf4b4580",
   "metadata": {},
   "outputs": [],
   "source": []
  }
 ],
 "metadata": {
  "kernelspec": {
   "display_name": "Python 3 (ipykernel)",
   "language": "python",
   "name": "python3"
  },
  "language_info": {
   "codemirror_mode": {
    "name": "ipython",
    "version": 3
   },
   "file_extension": ".py",
   "mimetype": "text/x-python",
   "name": "python",
   "nbconvert_exporter": "python",
   "pygments_lexer": "ipython3",
   "version": "3.9.7"
  }
 },
 "nbformat": 4,
 "nbformat_minor": 5
}
