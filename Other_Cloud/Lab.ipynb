{
 "cells": [
  {
   "cell_type": "markdown",
   "id": "3879d484-410a-4e5b-b856-8d6b53f0d594",
   "metadata": {},
   "source": [
    "# Задание\n",
    "Постройте pipeline для интеграции данных Kafka - Clickhouse в рамках управляемых сервисов Yandex Cloud, который принимает на вход метрики умных устройств в формате id устройства - дата и время события - наименование метрики - значение метрики (числовое). Сформируйте представление в Clickhouse для отображения средних значений по каждой метрике, сгенерируйте тестовые данные. Приведите скриншоты деплоя сервисов, код для Clickhouse и скриншоты результатов запроса к представлению."
   ]
  },
  {
   "cell_type": "markdown",
   "id": "239bccc8-dedf-4c5b-add0-91e34be5bfc9",
   "metadata": {},
   "source": [
    "Пропустиил "
   ]
  },
  {
   "cell_type": "code",
   "execution_count": null,
   "id": "764ccc9b-199f-466f-b110-f3000a52b6b6",
   "metadata": {},
   "outputs": [],
   "source": []
  }
 ],
 "metadata": {
  "kernelspec": {
   "display_name": "Python 3 (ipykernel)",
   "language": "python",
   "name": "python3"
  },
  "language_info": {
   "codemirror_mode": {
    "name": "ipython",
    "version": 3
   },
   "file_extension": ".py",
   "mimetype": "text/x-python",
   "name": "python",
   "nbconvert_exporter": "python",
   "pygments_lexer": "ipython3",
   "version": "3.9.7"
  }
 },
 "nbformat": 4,
 "nbformat_minor": 5
}
