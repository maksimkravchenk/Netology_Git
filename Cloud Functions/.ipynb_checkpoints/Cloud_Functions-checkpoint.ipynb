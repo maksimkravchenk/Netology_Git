{
 "cells": [
  {
   "cell_type": "markdown",
   "id": "e8848bdf-5ab2-4c2e-b793-65dd169941f9",
   "metadata": {
    "tags": []
   },
   "source": [
    "### Задание\n",
    "\n",
    "Напишите функцию, которая для каждого загружаемого в бакет файла выведет его имя и время создания обновления, используйте <a href=\"https://cloud.google.com/storage/docs/json_api/v1/objects#resource\">cloud.google.com...s#resource()</a> для структуры события. Приведите код функции и скриншот с примером работы"
   ]
  },
  {
   "cell_type": "code",
   "execution_count": 25,
   "id": "d0cc6965-c02b-4afe-a3ec-d6beb9aa60a4",
   "metadata": {},
   "outputs": [],
   "source": [
    "def test_GCS(event, context):\n",
    "\n",
    "    \"\"\"Triggered by a change to a Cloud Storage bucket.\n",
    "    Args:\n",
    "         event (dict): Event payload.\n",
    "         context (google.cloud.functions.Context): Metadata for the event.\n",
    "  \n",
    "  {'bucket': 'dataproc_lab_bucket', 'contentType': 'image/jpeg', 'crc32c': '5VyJsQ==', 'etag': 'CIzR8aqk6/UCEAE=', 'generation': '1644157594265740', \n",
    "  'id': 'dataproc_lab_bucket/20191022103939053_0001 (002).jpg/1644157594265740', 'kind': 'storage#object', 'md5Hash': 'fSsUs13cM7/4lTB9hQDI9Q==', \n",
    "  'mediaLink': 'https://www.googleapis.com/download/storage/v1/b/dataproc_lab_bucket/o/20191022103939053_0001%20(002).jpg?generation=1644157594265740&alt=media', \n",
    "  'metageneration': '1', 'name': '20191022103939053_0001 (002).jpg', \n",
    "  'selfLink': 'https://www.googleapis.com/storage/v1/b/dataproc_lab_bucket/o/20191022103939053_0001%20(002).jpg', 'size': '45139', 'storageClass': 'STANDARD', \n",
    "  'timeCreated': '2022-02-06T14:26:34.340Z', 'timeStorageClassUpdated': '2022-02-06T14:26:34.340Z', 'updated': '2022-02-06T14:26:34.340Z'}\",\n",
    "\n",
    "    \"\"\"\n",
    "    if len(event) == 0:\n",
    "        print(\"===============test_GCS: start log======================================\")\n",
    "        print(\"test_GCS: The event Arg is empty. Something went wrong\")\n",
    "        print(\"===============test_GCS: end log========================================\")\n",
    "    else: \n",
    "        print(\"===============test_GCS: start log======================================\")\n",
    "        print(f\"test_GCS: File: {event['name']} has been uploaded to the bucket: {event['bucket']}\")\n",
    "        print(\"test_GCS: The arguments of the file are:\")\n",
    "        for arg in event: \n",
    "            print(f\"test_GCS: {arg}:{event[arg]}\")\n",
    "        print(\"===============test_GCS: end log========================================\")\n",
    "  #  print(f\"Function test_GCS. Arg event dictionary: {file}\")\n",
    "    #print(f\"Processing file: {file['name']}.\")"
   ]
  },
  {
   "cell_type": "code",
   "execution_count": null,
   "id": "1a850def-584e-4e3f-878a-b8e127ab9783",
   "metadata": {},
   "outputs": [],
   "source": []
  }
 ],
 "metadata": {
  "kernelspec": {
   "display_name": "Python 3 (ipykernel)",
   "language": "python",
   "name": "python3"
  },
  "language_info": {
   "codemirror_mode": {
    "name": "ipython",
    "version": 3
   },
   "file_extension": ".py",
   "mimetype": "text/x-python",
   "name": "python",
   "nbconvert_exporter": "python",
   "pygments_lexer": "ipython3",
   "version": "3.9.7"
  }
 },
 "nbformat": 4,
 "nbformat_minor": 5
}
